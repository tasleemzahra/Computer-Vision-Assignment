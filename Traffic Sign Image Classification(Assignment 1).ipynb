{
 "cells": [
  {
   "cell_type": "markdown",
   "id": "f069813a",
   "metadata": {},
   "source": [
    "# Traffic Sign Image Classification"
   ]
  },
  {
   "cell_type": "markdown",
   "id": "2baf3b97",
   "metadata": {},
   "source": [
    "# Import Libraries"
   ]
  },
  {
   "cell_type": "code",
   "execution_count": 154,
   "id": "79071afe",
   "metadata": {},
   "outputs": [],
   "source": [
    "import pandas as pd\n",
    "import numpy as np\n",
    "from PIL import Image\n",
    "import os\n",
    "import cv2\n",
    "import matplotlib.pyplot as plt"
   ]
  },
  {
   "cell_type": "markdown",
   "id": "c559c4c3",
   "metadata": {},
   "source": [
    "# Get training data path"
   ]
  },
  {
   "cell_type": "code",
   "execution_count": 155,
   "id": "3f323cf1",
   "metadata": {},
   "outputs": [
    {
     "name": "stdout",
     "output_type": "stream",
     "text": [
      "00001\n",
      "C:\\Users\\Tasleem Zahra\\Downloads\\CS67_Fall2022_ A1_Dataset\\00001\n",
      "00002\n",
      "C:\\Users\\Tasleem Zahra\\Downloads\\CS67_Fall2022_ A1_Dataset\\00002\n",
      "00003\n",
      "C:\\Users\\Tasleem Zahra\\Downloads\\CS67_Fall2022_ A1_Dataset\\00003\n",
      "00004\n",
      "C:\\Users\\Tasleem Zahra\\Downloads\\CS67_Fall2022_ A1_Dataset\\00004\n",
      "00005\n",
      "C:\\Users\\Tasleem Zahra\\Downloads\\CS67_Fall2022_ A1_Dataset\\00005\n",
      "00006\n",
      "C:\\Users\\Tasleem Zahra\\Downloads\\CS67_Fall2022_ A1_Dataset\\00006\n",
      "00007\n",
      "C:\\Users\\Tasleem Zahra\\Downloads\\CS67_Fall2022_ A1_Dataset\\00007\n",
      "00008\n",
      "C:\\Users\\Tasleem Zahra\\Downloads\\CS67_Fall2022_ A1_Dataset\\00008\n",
      "00009\n",
      "C:\\Users\\Tasleem Zahra\\Downloads\\CS67_Fall2022_ A1_Dataset\\00009\n",
      "00010\n",
      "C:\\Users\\Tasleem Zahra\\Downloads\\CS67_Fall2022_ A1_Dataset\\00010\n"
     ]
    }
   ],
   "source": [
    "train_img_paths=[]\n",
    "train_labels=[]\n",
    "p = 'C:\\\\Users\\\\Tasleem Zahra\\\\Downloads\\\\CS67_Fall2022_ A1_Dataset'\n",
    "for i in os.listdir(p):\n",
    "    print(i)\n",
    "    print(os.path.join(p,i))\n",
    "    \n",
    "    with open(os.path.join(p,i,\"train.txt\")) as file:\n",
    "        \n",
    "        for each_line in file:\n",
    "            train_img_paths.append(os.path.join(p,i,each_line.strip()))\n",
    "            train_labels.append(i)\n",
    "        "
   ]
  },
  {
   "cell_type": "code",
   "execution_count": 156,
   "id": "7c7b2c3c",
   "metadata": {},
   "outputs": [
    {
     "data": {
      "text/plain": [
       "['C:\\\\Users\\\\Tasleem Zahra\\\\Downloads\\\\CS67_Fall2022_ A1_Dataset\\\\00001\\\\00468_00002.ppm',\n",
       " 'C:\\\\Users\\\\Tasleem Zahra\\\\Downloads\\\\CS67_Fall2022_ A1_Dataset\\\\00001\\\\00475_00000.ppm',\n",
       " 'C:\\\\Users\\\\Tasleem Zahra\\\\Downloads\\\\CS67_Fall2022_ A1_Dataset\\\\00001\\\\00475_00001.ppm',\n",
       " 'C:\\\\Users\\\\Tasleem Zahra\\\\Downloads\\\\CS67_Fall2022_ A1_Dataset\\\\00001\\\\00475_00002.ppm',\n",
       " 'C:\\\\Users\\\\Tasleem Zahra\\\\Downloads\\\\CS67_Fall2022_ A1_Dataset\\\\00001\\\\00801_00000.ppm',\n",
       " 'C:\\\\Users\\\\Tasleem Zahra\\\\Downloads\\\\CS67_Fall2022_ A1_Dataset\\\\00001\\\\00801_00001.ppm',\n",
       " 'C:\\\\Users\\\\Tasleem Zahra\\\\Downloads\\\\CS67_Fall2022_ A1_Dataset\\\\00001\\\\00801_00002.ppm',\n",
       " 'C:\\\\Users\\\\Tasleem Zahra\\\\Downloads\\\\CS67_Fall2022_ A1_Dataset\\\\00001\\\\00806_00000.ppm',\n",
       " 'C:\\\\Users\\\\Tasleem Zahra\\\\Downloads\\\\CS67_Fall2022_ A1_Dataset\\\\00001\\\\00806_00001.ppm',\n",
       " 'C:\\\\Users\\\\Tasleem Zahra\\\\Downloads\\\\CS67_Fall2022_ A1_Dataset\\\\00001\\\\00806_00002.ppm',\n",
       " 'C:\\\\Users\\\\Tasleem Zahra\\\\Downloads\\\\CS67_Fall2022_ A1_Dataset\\\\00001\\\\00874_00000.ppm',\n",
       " 'C:\\\\Users\\\\Tasleem Zahra\\\\Downloads\\\\CS67_Fall2022_ A1_Dataset\\\\00001\\\\00874_00001.ppm',\n",
       " 'C:\\\\Users\\\\Tasleem Zahra\\\\Downloads\\\\CS67_Fall2022_ A1_Dataset\\\\00001\\\\00874_00002.ppm',\n",
       " 'C:\\\\Users\\\\Tasleem Zahra\\\\Downloads\\\\CS67_Fall2022_ A1_Dataset\\\\00001\\\\00876_00000.ppm',\n",
       " 'C:\\\\Users\\\\Tasleem Zahra\\\\Downloads\\\\CS67_Fall2022_ A1_Dataset\\\\00001\\\\00876_00001.ppm',\n",
       " 'C:\\\\Users\\\\Tasleem Zahra\\\\Downloads\\\\CS67_Fall2022_ A1_Dataset\\\\00001\\\\00876_00002.ppm',\n",
       " 'C:\\\\Users\\\\Tasleem Zahra\\\\Downloads\\\\CS67_Fall2022_ A1_Dataset\\\\00001\\\\00877_00000.ppm',\n",
       " 'C:\\\\Users\\\\Tasleem Zahra\\\\Downloads\\\\CS67_Fall2022_ A1_Dataset\\\\00001\\\\00877_00001.ppm',\n",
       " 'C:\\\\Users\\\\Tasleem Zahra\\\\Downloads\\\\CS67_Fall2022_ A1_Dataset\\\\00001\\\\00877_00002.ppm',\n",
       " 'C:\\\\Users\\\\Tasleem Zahra\\\\Downloads\\\\CS67_Fall2022_ A1_Dataset\\\\00001\\\\00881_00000.ppm',\n",
       " 'C:\\\\Users\\\\Tasleem Zahra\\\\Downloads\\\\CS67_Fall2022_ A1_Dataset\\\\00001\\\\00881_00001.ppm',\n",
       " 'C:\\\\Users\\\\Tasleem Zahra\\\\Downloads\\\\CS67_Fall2022_ A1_Dataset\\\\00001\\\\00881_00002.ppm',\n",
       " 'C:\\\\Users\\\\Tasleem Zahra\\\\Downloads\\\\CS67_Fall2022_ A1_Dataset\\\\00001\\\\00897_00000.ppm',\n",
       " 'C:\\\\Users\\\\Tasleem Zahra\\\\Downloads\\\\CS67_Fall2022_ A1_Dataset\\\\00001\\\\00897_00001.ppm',\n",
       " 'C:\\\\Users\\\\Tasleem Zahra\\\\Downloads\\\\CS67_Fall2022_ A1_Dataset\\\\00001\\\\00897_00002.ppm',\n",
       " 'C:\\\\Users\\\\Tasleem Zahra\\\\Downloads\\\\CS67_Fall2022_ A1_Dataset\\\\00001\\\\00900_00000.ppm',\n",
       " 'C:\\\\Users\\\\Tasleem Zahra\\\\Downloads\\\\CS67_Fall2022_ A1_Dataset\\\\00001\\\\00900_00001.ppm',\n",
       " 'C:\\\\Users\\\\Tasleem Zahra\\\\Downloads\\\\CS67_Fall2022_ A1_Dataset\\\\00001\\\\00900_00002.ppm',\n",
       " 'C:\\\\Users\\\\Tasleem Zahra\\\\Downloads\\\\CS67_Fall2022_ A1_Dataset\\\\00001\\\\00920_00000.ppm',\n",
       " 'C:\\\\Users\\\\Tasleem Zahra\\\\Downloads\\\\CS67_Fall2022_ A1_Dataset\\\\00001\\\\00920_00001.ppm',\n",
       " 'C:\\\\Users\\\\Tasleem Zahra\\\\Downloads\\\\CS67_Fall2022_ A1_Dataset\\\\00001\\\\00920_00002.ppm',\n",
       " 'C:\\\\Users\\\\Tasleem Zahra\\\\Downloads\\\\CS67_Fall2022_ A1_Dataset\\\\00001\\\\00921_00000.ppm',\n",
       " 'C:\\\\Users\\\\Tasleem Zahra\\\\Downloads\\\\CS67_Fall2022_ A1_Dataset\\\\00001\\\\00921_00001.ppm',\n",
       " 'C:\\\\Users\\\\Tasleem Zahra\\\\Downloads\\\\CS67_Fall2022_ A1_Dataset\\\\00001\\\\00933_00000.ppm',\n",
       " 'C:\\\\Users\\\\Tasleem Zahra\\\\Downloads\\\\CS67_Fall2022_ A1_Dataset\\\\00001\\\\00933_00001.ppm',\n",
       " 'C:\\\\Users\\\\Tasleem Zahra\\\\Downloads\\\\CS67_Fall2022_ A1_Dataset\\\\00001\\\\00933_00002.ppm',\n",
       " 'C:\\\\Users\\\\Tasleem Zahra\\\\Downloads\\\\CS67_Fall2022_ A1_Dataset\\\\00001\\\\00941_00000.ppm',\n",
       " 'C:\\\\Users\\\\Tasleem Zahra\\\\Downloads\\\\CS67_Fall2022_ A1_Dataset\\\\00001\\\\00941_00001.ppm',\n",
       " 'C:\\\\Users\\\\Tasleem Zahra\\\\Downloads\\\\CS67_Fall2022_ A1_Dataset\\\\00001\\\\00941_00002.ppm',\n",
       " 'C:\\\\Users\\\\Tasleem Zahra\\\\Downloads\\\\CS67_Fall2022_ A1_Dataset\\\\00001\\\\00947_00000.ppm',\n",
       " 'C:\\\\Users\\\\Tasleem Zahra\\\\Downloads\\\\CS67_Fall2022_ A1_Dataset\\\\00001\\\\00947_00001.ppm',\n",
       " 'C:\\\\Users\\\\Tasleem Zahra\\\\Downloads\\\\CS67_Fall2022_ A1_Dataset\\\\00001\\\\00947_00002.ppm',\n",
       " 'C:\\\\Users\\\\Tasleem Zahra\\\\Downloads\\\\CS67_Fall2022_ A1_Dataset\\\\00001\\\\00965_00000.ppm',\n",
       " 'C:\\\\Users\\\\Tasleem Zahra\\\\Downloads\\\\CS67_Fall2022_ A1_Dataset\\\\00001\\\\00965_00001.ppm',\n",
       " 'C:\\\\Users\\\\Tasleem Zahra\\\\Downloads\\\\CS67_Fall2022_ A1_Dataset\\\\00001\\\\00965_00002.ppm',\n",
       " 'C:\\\\Users\\\\Tasleem Zahra\\\\Downloads\\\\CS67_Fall2022_ A1_Dataset\\\\00001\\\\01028_00000.ppm',\n",
       " 'C:\\\\Users\\\\Tasleem Zahra\\\\Downloads\\\\CS67_Fall2022_ A1_Dataset\\\\00001\\\\01028_00001.ppm',\n",
       " 'C:\\\\Users\\\\Tasleem Zahra\\\\Downloads\\\\CS67_Fall2022_ A1_Dataset\\\\00001\\\\01028_00002.ppm',\n",
       " 'C:\\\\Users\\\\Tasleem Zahra\\\\Downloads\\\\CS67_Fall2022_ A1_Dataset\\\\00001\\\\01103_00000.ppm',\n",
       " 'C:\\\\Users\\\\Tasleem Zahra\\\\Downloads\\\\CS67_Fall2022_ A1_Dataset\\\\00001\\\\01103_00001.ppm',\n",
       " 'C:\\\\Users\\\\Tasleem Zahra\\\\Downloads\\\\CS67_Fall2022_ A1_Dataset\\\\00001\\\\01103_00002.ppm',\n",
       " 'C:\\\\Users\\\\Tasleem Zahra\\\\Downloads\\\\CS67_Fall2022_ A1_Dataset\\\\00001\\\\01114_00000.ppm',\n",
       " 'C:\\\\Users\\\\Tasleem Zahra\\\\Downloads\\\\CS67_Fall2022_ A1_Dataset\\\\00001\\\\01114_00001.ppm',\n",
       " 'C:\\\\Users\\\\Tasleem Zahra\\\\Downloads\\\\CS67_Fall2022_ A1_Dataset\\\\00001\\\\01114_00002.ppm',\n",
       " 'C:\\\\Users\\\\Tasleem Zahra\\\\Downloads\\\\CS67_Fall2022_ A1_Dataset\\\\00001\\\\01278_00000.ppm',\n",
       " 'C:\\\\Users\\\\Tasleem Zahra\\\\Downloads\\\\CS67_Fall2022_ A1_Dataset\\\\00001\\\\01278_00001.ppm',\n",
       " 'C:\\\\Users\\\\Tasleem Zahra\\\\Downloads\\\\CS67_Fall2022_ A1_Dataset\\\\00001\\\\01278_00002.ppm',\n",
       " 'C:\\\\Users\\\\Tasleem Zahra\\\\Downloads\\\\CS67_Fall2022_ A1_Dataset\\\\00001\\\\01556_00000.ppm',\n",
       " 'C:\\\\Users\\\\Tasleem Zahra\\\\Downloads\\\\CS67_Fall2022_ A1_Dataset\\\\00001\\\\01556_00001.ppm',\n",
       " 'C:\\\\Users\\\\Tasleem Zahra\\\\Downloads\\\\CS67_Fall2022_ A1_Dataset\\\\00001\\\\01556_00002.ppm',\n",
       " 'C:\\\\Users\\\\Tasleem Zahra\\\\Downloads\\\\CS67_Fall2022_ A1_Dataset\\\\00001\\\\01584_00000.ppm',\n",
       " 'C:\\\\Users\\\\Tasleem Zahra\\\\Downloads\\\\CS67_Fall2022_ A1_Dataset\\\\00001\\\\01584_00001.ppm',\n",
       " 'C:\\\\Users\\\\Tasleem Zahra\\\\Downloads\\\\CS67_Fall2022_ A1_Dataset\\\\00001\\\\01584_00002.ppm',\n",
       " 'C:\\\\Users\\\\Tasleem Zahra\\\\Downloads\\\\CS67_Fall2022_ A1_Dataset\\\\00001\\\\01585_00000.ppm',\n",
       " 'C:\\\\Users\\\\Tasleem Zahra\\\\Downloads\\\\CS67_Fall2022_ A1_Dataset\\\\00001\\\\01585_00001.ppm',\n",
       " 'C:\\\\Users\\\\Tasleem Zahra\\\\Downloads\\\\CS67_Fall2022_ A1_Dataset\\\\00001\\\\01585_00002.ppm',\n",
       " 'C:\\\\Users\\\\Tasleem Zahra\\\\Downloads\\\\CS67_Fall2022_ A1_Dataset\\\\00001\\\\01590_00000.ppm',\n",
       " 'C:\\\\Users\\\\Tasleem Zahra\\\\Downloads\\\\CS67_Fall2022_ A1_Dataset\\\\00001\\\\01590_00001.ppm',\n",
       " 'C:\\\\Users\\\\Tasleem Zahra\\\\Downloads\\\\CS67_Fall2022_ A1_Dataset\\\\00001\\\\01590_00002.ppm',\n",
       " 'C:\\\\Users\\\\Tasleem Zahra\\\\Downloads\\\\CS67_Fall2022_ A1_Dataset\\\\00001\\\\01651_00000.ppm',\n",
       " 'C:\\\\Users\\\\Tasleem Zahra\\\\Downloads\\\\CS67_Fall2022_ A1_Dataset\\\\00001\\\\01651_00001.ppm',\n",
       " 'C:\\\\Users\\\\Tasleem Zahra\\\\Downloads\\\\CS67_Fall2022_ A1_Dataset\\\\00001\\\\01651_00002.ppm',\n",
       " 'C:\\\\Users\\\\Tasleem Zahra\\\\Downloads\\\\CS67_Fall2022_ A1_Dataset\\\\00001\\\\01662_00000.ppm',\n",
       " 'C:\\\\Users\\\\Tasleem Zahra\\\\Downloads\\\\CS67_Fall2022_ A1_Dataset\\\\00001\\\\01662_00001.ppm',\n",
       " 'C:\\\\Users\\\\Tasleem Zahra\\\\Downloads\\\\CS67_Fall2022_ A1_Dataset\\\\00001\\\\01662_00002.ppm',\n",
       " 'C:\\\\Users\\\\Tasleem Zahra\\\\Downloads\\\\CS67_Fall2022_ A1_Dataset\\\\00001\\\\01681_00000.ppm',\n",
       " 'C:\\\\Users\\\\Tasleem Zahra\\\\Downloads\\\\CS67_Fall2022_ A1_Dataset\\\\00001\\\\01681_00001.ppm',\n",
       " 'C:\\\\Users\\\\Tasleem Zahra\\\\Downloads\\\\CS67_Fall2022_ A1_Dataset\\\\00001\\\\01681_00002.ppm',\n",
       " 'C:\\\\Users\\\\Tasleem Zahra\\\\Downloads\\\\CS67_Fall2022_ A1_Dataset\\\\00001\\\\01699_00000.ppm',\n",
       " 'C:\\\\Users\\\\Tasleem Zahra\\\\Downloads\\\\CS67_Fall2022_ A1_Dataset\\\\00001\\\\01699_00001.ppm',\n",
       " 'C:\\\\Users\\\\Tasleem Zahra\\\\Downloads\\\\CS67_Fall2022_ A1_Dataset\\\\00002\\\\00931_00001.ppm',\n",
       " 'C:\\\\Users\\\\Tasleem Zahra\\\\Downloads\\\\CS67_Fall2022_ A1_Dataset\\\\00002\\\\00937_00001.ppm',\n",
       " 'C:\\\\Users\\\\Tasleem Zahra\\\\Downloads\\\\CS67_Fall2022_ A1_Dataset\\\\00002\\\\00937_00002.ppm',\n",
       " 'C:\\\\Users\\\\Tasleem Zahra\\\\Downloads\\\\CS67_Fall2022_ A1_Dataset\\\\00002\\\\00937_00003.ppm',\n",
       " 'C:\\\\Users\\\\Tasleem Zahra\\\\Downloads\\\\CS67_Fall2022_ A1_Dataset\\\\00002\\\\00938_00000.ppm',\n",
       " 'C:\\\\Users\\\\Tasleem Zahra\\\\Downloads\\\\CS67_Fall2022_ A1_Dataset\\\\00002\\\\00943_00001.ppm',\n",
       " 'C:\\\\Users\\\\Tasleem Zahra\\\\Downloads\\\\CS67_Fall2022_ A1_Dataset\\\\00002\\\\00945_00000.ppm',\n",
       " 'C:\\\\Users\\\\Tasleem Zahra\\\\Downloads\\\\CS67_Fall2022_ A1_Dataset\\\\00002\\\\00945_00001.ppm',\n",
       " 'C:\\\\Users\\\\Tasleem Zahra\\\\Downloads\\\\CS67_Fall2022_ A1_Dataset\\\\00002\\\\00945_00002.ppm',\n",
       " 'C:\\\\Users\\\\Tasleem Zahra\\\\Downloads\\\\CS67_Fall2022_ A1_Dataset\\\\00002\\\\00957_00002.ppm',\n",
       " 'C:\\\\Users\\\\Tasleem Zahra\\\\Downloads\\\\CS67_Fall2022_ A1_Dataset\\\\00002\\\\00959_00000.ppm',\n",
       " 'C:\\\\Users\\\\Tasleem Zahra\\\\Downloads\\\\CS67_Fall2022_ A1_Dataset\\\\00002\\\\00959_00001.ppm',\n",
       " 'C:\\\\Users\\\\Tasleem Zahra\\\\Downloads\\\\CS67_Fall2022_ A1_Dataset\\\\00002\\\\00959_00002.ppm',\n",
       " 'C:\\\\Users\\\\Tasleem Zahra\\\\Downloads\\\\CS67_Fall2022_ A1_Dataset\\\\00002\\\\01002_00002.ppm',\n",
       " 'C:\\\\Users\\\\Tasleem Zahra\\\\Downloads\\\\CS67_Fall2022_ A1_Dataset\\\\00002\\\\01003_00000.ppm',\n",
       " 'C:\\\\Users\\\\Tasleem Zahra\\\\Downloads\\\\CS67_Fall2022_ A1_Dataset\\\\00002\\\\01003_00001.ppm',\n",
       " 'C:\\\\Users\\\\Tasleem Zahra\\\\Downloads\\\\CS67_Fall2022_ A1_Dataset\\\\00002\\\\01003_00002.ppm',\n",
       " 'C:\\\\Users\\\\Tasleem Zahra\\\\Downloads\\\\CS67_Fall2022_ A1_Dataset\\\\00002\\\\01013_00000.ppm',\n",
       " 'C:\\\\Users\\\\Tasleem Zahra\\\\Downloads\\\\CS67_Fall2022_ A1_Dataset\\\\00002\\\\01013_00001.ppm',\n",
       " 'C:\\\\Users\\\\Tasleem Zahra\\\\Downloads\\\\CS67_Fall2022_ A1_Dataset\\\\00002\\\\01013_00002.ppm',\n",
       " 'C:\\\\Users\\\\Tasleem Zahra\\\\Downloads\\\\CS67_Fall2022_ A1_Dataset\\\\00002\\\\01102_00002.ppm',\n",
       " 'C:\\\\Users\\\\Tasleem Zahra\\\\Downloads\\\\CS67_Fall2022_ A1_Dataset\\\\00002\\\\01108_00000.ppm',\n",
       " 'C:\\\\Users\\\\Tasleem Zahra\\\\Downloads\\\\CS67_Fall2022_ A1_Dataset\\\\00002\\\\01108_00001.ppm',\n",
       " 'C:\\\\Users\\\\Tasleem Zahra\\\\Downloads\\\\CS67_Fall2022_ A1_Dataset\\\\00002\\\\01108_00002.ppm',\n",
       " 'C:\\\\Users\\\\Tasleem Zahra\\\\Downloads\\\\CS67_Fall2022_ A1_Dataset\\\\00002\\\\01109_00002.ppm',\n",
       " 'C:\\\\Users\\\\Tasleem Zahra\\\\Downloads\\\\CS67_Fall2022_ A1_Dataset\\\\00002\\\\01111_00000.ppm',\n",
       " 'C:\\\\Users\\\\Tasleem Zahra\\\\Downloads\\\\CS67_Fall2022_ A1_Dataset\\\\00002\\\\01111_00001.ppm',\n",
       " 'C:\\\\Users\\\\Tasleem Zahra\\\\Downloads\\\\CS67_Fall2022_ A1_Dataset\\\\00002\\\\01112_00000.ppm',\n",
       " 'C:\\\\Users\\\\Tasleem Zahra\\\\Downloads\\\\CS67_Fall2022_ A1_Dataset\\\\00002\\\\01232_00002.ppm',\n",
       " 'C:\\\\Users\\\\Tasleem Zahra\\\\Downloads\\\\CS67_Fall2022_ A1_Dataset\\\\00002\\\\01237_00000.ppm',\n",
       " 'C:\\\\Users\\\\Tasleem Zahra\\\\Downloads\\\\CS67_Fall2022_ A1_Dataset\\\\00002\\\\01237_00001.ppm',\n",
       " 'C:\\\\Users\\\\Tasleem Zahra\\\\Downloads\\\\CS67_Fall2022_ A1_Dataset\\\\00002\\\\01237_00002.ppm',\n",
       " 'C:\\\\Users\\\\Tasleem Zahra\\\\Downloads\\\\CS67_Fall2022_ A1_Dataset\\\\00002\\\\01238_00002.ppm',\n",
       " 'C:\\\\Users\\\\Tasleem Zahra\\\\Downloads\\\\CS67_Fall2022_ A1_Dataset\\\\00002\\\\01243_00000.ppm',\n",
       " 'C:\\\\Users\\\\Tasleem Zahra\\\\Downloads\\\\CS67_Fall2022_ A1_Dataset\\\\00002\\\\01243_00001.ppm',\n",
       " 'C:\\\\Users\\\\Tasleem Zahra\\\\Downloads\\\\CS67_Fall2022_ A1_Dataset\\\\00002\\\\01243_00002.ppm',\n",
       " 'C:\\\\Users\\\\Tasleem Zahra\\\\Downloads\\\\CS67_Fall2022_ A1_Dataset\\\\00002\\\\01244_00002.ppm',\n",
       " 'C:\\\\Users\\\\Tasleem Zahra\\\\Downloads\\\\CS67_Fall2022_ A1_Dataset\\\\00002\\\\01248_00000.ppm',\n",
       " 'C:\\\\Users\\\\Tasleem Zahra\\\\Downloads\\\\CS67_Fall2022_ A1_Dataset\\\\00002\\\\01248_00001.ppm',\n",
       " 'C:\\\\Users\\\\Tasleem Zahra\\\\Downloads\\\\CS67_Fall2022_ A1_Dataset\\\\00002\\\\01248_00002.ppm',\n",
       " 'C:\\\\Users\\\\Tasleem Zahra\\\\Downloads\\\\CS67_Fall2022_ A1_Dataset\\\\00002\\\\01249_00002.ppm',\n",
       " 'C:\\\\Users\\\\Tasleem Zahra\\\\Downloads\\\\CS67_Fall2022_ A1_Dataset\\\\00002\\\\01253_00000.ppm',\n",
       " 'C:\\\\Users\\\\Tasleem Zahra\\\\Downloads\\\\CS67_Fall2022_ A1_Dataset\\\\00002\\\\01253_00001.ppm',\n",
       " 'C:\\\\Users\\\\Tasleem Zahra\\\\Downloads\\\\CS67_Fall2022_ A1_Dataset\\\\00002\\\\01253_00002.ppm',\n",
       " 'C:\\\\Users\\\\Tasleem Zahra\\\\Downloads\\\\CS67_Fall2022_ A1_Dataset\\\\00002\\\\01254_00001.ppm',\n",
       " 'C:\\\\Users\\\\Tasleem Zahra\\\\Downloads\\\\CS67_Fall2022_ A1_Dataset\\\\00002\\\\01254_00002.ppm',\n",
       " 'C:\\\\Users\\\\Tasleem Zahra\\\\Downloads\\\\CS67_Fall2022_ A1_Dataset\\\\00002\\\\01262_00000.ppm',\n",
       " 'C:\\\\Users\\\\Tasleem Zahra\\\\Downloads\\\\CS67_Fall2022_ A1_Dataset\\\\00002\\\\01262_00001.ppm',\n",
       " 'C:\\\\Users\\\\Tasleem Zahra\\\\Downloads\\\\CS67_Fall2022_ A1_Dataset\\\\00002\\\\01263_00001.ppm',\n",
       " 'C:\\\\Users\\\\Tasleem Zahra\\\\Downloads\\\\CS67_Fall2022_ A1_Dataset\\\\00002\\\\01263_00002.ppm',\n",
       " 'C:\\\\Users\\\\Tasleem Zahra\\\\Downloads\\\\CS67_Fall2022_ A1_Dataset\\\\00002\\\\01269_00000.ppm',\n",
       " 'C:\\\\Users\\\\Tasleem Zahra\\\\Downloads\\\\CS67_Fall2022_ A1_Dataset\\\\00002\\\\01269_00001.ppm',\n",
       " 'C:\\\\Users\\\\Tasleem Zahra\\\\Downloads\\\\CS67_Fall2022_ A1_Dataset\\\\00002\\\\01275_00000.ppm',\n",
       " 'C:\\\\Users\\\\Tasleem Zahra\\\\Downloads\\\\CS67_Fall2022_ A1_Dataset\\\\00002\\\\01275_00001.ppm',\n",
       " 'C:\\\\Users\\\\Tasleem Zahra\\\\Downloads\\\\CS67_Fall2022_ A1_Dataset\\\\00002\\\\01275_00002.ppm',\n",
       " 'C:\\\\Users\\\\Tasleem Zahra\\\\Downloads\\\\CS67_Fall2022_ A1_Dataset\\\\00002\\\\01276_00000.ppm',\n",
       " 'C:\\\\Users\\\\Tasleem Zahra\\\\Downloads\\\\CS67_Fall2022_ A1_Dataset\\\\00002\\\\01502_00002.ppm',\n",
       " 'C:\\\\Users\\\\Tasleem Zahra\\\\Downloads\\\\CS67_Fall2022_ A1_Dataset\\\\00002\\\\01504_00000.ppm',\n",
       " 'C:\\\\Users\\\\Tasleem Zahra\\\\Downloads\\\\CS67_Fall2022_ A1_Dataset\\\\00002\\\\01511_00002.ppm',\n",
       " 'C:\\\\Users\\\\Tasleem Zahra\\\\Downloads\\\\CS67_Fall2022_ A1_Dataset\\\\00002\\\\01514_00000.ppm',\n",
       " 'C:\\\\Users\\\\Tasleem Zahra\\\\Downloads\\\\CS67_Fall2022_ A1_Dataset\\\\00002\\\\01519_00002.ppm',\n",
       " 'C:\\\\Users\\\\Tasleem Zahra\\\\Downloads\\\\CS67_Fall2022_ A1_Dataset\\\\00002\\\\01524_00001.ppm',\n",
       " 'C:\\\\Users\\\\Tasleem Zahra\\\\Downloads\\\\CS67_Fall2022_ A1_Dataset\\\\00002\\\\01525_00002.ppm',\n",
       " 'C:\\\\Users\\\\Tasleem Zahra\\\\Downloads\\\\CS67_Fall2022_ A1_Dataset\\\\00002\\\\01526_00000.ppm',\n",
       " 'C:\\\\Users\\\\Tasleem Zahra\\\\Downloads\\\\CS67_Fall2022_ A1_Dataset\\\\00002\\\\01528_00002.ppm',\n",
       " 'C:\\\\Users\\\\Tasleem Zahra\\\\Downloads\\\\CS67_Fall2022_ A1_Dataset\\\\00002\\\\01536_00000.ppm',\n",
       " 'C:\\\\Users\\\\Tasleem Zahra\\\\Downloads\\\\CS67_Fall2022_ A1_Dataset\\\\00002\\\\01536_00001.ppm',\n",
       " 'C:\\\\Users\\\\Tasleem Zahra\\\\Downloads\\\\CS67_Fall2022_ A1_Dataset\\\\00002\\\\01536_00002.ppm',\n",
       " 'C:\\\\Users\\\\Tasleem Zahra\\\\Downloads\\\\CS67_Fall2022_ A1_Dataset\\\\00002\\\\01588_00001.ppm',\n",
       " 'C:\\\\Users\\\\Tasleem Zahra\\\\Downloads\\\\CS67_Fall2022_ A1_Dataset\\\\00002\\\\01588_00002.ppm',\n",
       " 'C:\\\\Users\\\\Tasleem Zahra\\\\Downloads\\\\CS67_Fall2022_ A1_Dataset\\\\00002\\\\01713_00001.ppm',\n",
       " 'C:\\\\Users\\\\Tasleem Zahra\\\\Downloads\\\\CS67_Fall2022_ A1_Dataset\\\\00002\\\\01915_00000.ppm',\n",
       " 'C:\\\\Users\\\\Tasleem Zahra\\\\Downloads\\\\CS67_Fall2022_ A1_Dataset\\\\00002\\\\01915_00001.ppm',\n",
       " 'C:\\\\Users\\\\Tasleem Zahra\\\\Downloads\\\\CS67_Fall2022_ A1_Dataset\\\\00002\\\\01915_00002.ppm',\n",
       " 'C:\\\\Users\\\\Tasleem Zahra\\\\Downloads\\\\CS67_Fall2022_ A1_Dataset\\\\00002\\\\01916_00000.ppm',\n",
       " 'C:\\\\Users\\\\Tasleem Zahra\\\\Downloads\\\\CS67_Fall2022_ A1_Dataset\\\\00002\\\\01955_00002.ppm',\n",
       " 'C:\\\\Users\\\\Tasleem Zahra\\\\Downloads\\\\CS67_Fall2022_ A1_Dataset\\\\00002\\\\01956_00000.ppm',\n",
       " 'C:\\\\Users\\\\Tasleem Zahra\\\\Downloads\\\\CS67_Fall2022_ A1_Dataset\\\\00002\\\\01958_00000.ppm',\n",
       " 'C:\\\\Users\\\\Tasleem Zahra\\\\Downloads\\\\CS67_Fall2022_ A1_Dataset\\\\00002\\\\01958_00001.ppm',\n",
       " 'C:\\\\Users\\\\Tasleem Zahra\\\\Downloads\\\\CS67_Fall2022_ A1_Dataset\\\\00002\\\\01958_00002.ppm',\n",
       " 'C:\\\\Users\\\\Tasleem Zahra\\\\Downloads\\\\CS67_Fall2022_ A1_Dataset\\\\00003\\\\00553_00001.ppm',\n",
       " 'C:\\\\Users\\\\Tasleem Zahra\\\\Downloads\\\\CS67_Fall2022_ A1_Dataset\\\\00003\\\\00553_00002.ppm',\n",
       " 'C:\\\\Users\\\\Tasleem Zahra\\\\Downloads\\\\CS67_Fall2022_ A1_Dataset\\\\00003\\\\00559_00000.ppm',\n",
       " 'C:\\\\Users\\\\Tasleem Zahra\\\\Downloads\\\\CS67_Fall2022_ A1_Dataset\\\\00003\\\\00559_00001.ppm',\n",
       " 'C:\\\\Users\\\\Tasleem Zahra\\\\Downloads\\\\CS67_Fall2022_ A1_Dataset\\\\00003\\\\00559_00002.ppm',\n",
       " 'C:\\\\Users\\\\Tasleem Zahra\\\\Downloads\\\\CS67_Fall2022_ A1_Dataset\\\\00003\\\\00569_00000.ppm',\n",
       " 'C:\\\\Users\\\\Tasleem Zahra\\\\Downloads\\\\CS67_Fall2022_ A1_Dataset\\\\00003\\\\00569_00001.ppm',\n",
       " 'C:\\\\Users\\\\Tasleem Zahra\\\\Downloads\\\\CS67_Fall2022_ A1_Dataset\\\\00003\\\\00569_00002.ppm',\n",
       " 'C:\\\\Users\\\\Tasleem Zahra\\\\Downloads\\\\CS67_Fall2022_ A1_Dataset\\\\00003\\\\00578_00000.ppm',\n",
       " 'C:\\\\Users\\\\Tasleem Zahra\\\\Downloads\\\\CS67_Fall2022_ A1_Dataset\\\\00003\\\\00578_00001.ppm',\n",
       " 'C:\\\\Users\\\\Tasleem Zahra\\\\Downloads\\\\CS67_Fall2022_ A1_Dataset\\\\00003\\\\00578_00002.ppm',\n",
       " 'C:\\\\Users\\\\Tasleem Zahra\\\\Downloads\\\\CS67_Fall2022_ A1_Dataset\\\\00003\\\\00619_00000.ppm',\n",
       " 'C:\\\\Users\\\\Tasleem Zahra\\\\Downloads\\\\CS67_Fall2022_ A1_Dataset\\\\00003\\\\00619_00001.ppm',\n",
       " 'C:\\\\Users\\\\Tasleem Zahra\\\\Downloads\\\\CS67_Fall2022_ A1_Dataset\\\\00003\\\\00619_00002.ppm',\n",
       " 'C:\\\\Users\\\\Tasleem Zahra\\\\Downloads\\\\CS67_Fall2022_ A1_Dataset\\\\00003\\\\00653_00000.ppm',\n",
       " 'C:\\\\Users\\\\Tasleem Zahra\\\\Downloads\\\\CS67_Fall2022_ A1_Dataset\\\\00003\\\\00653_00001.ppm',\n",
       " 'C:\\\\Users\\\\Tasleem Zahra\\\\Downloads\\\\CS67_Fall2022_ A1_Dataset\\\\00003\\\\00653_00002.ppm',\n",
       " 'C:\\\\Users\\\\Tasleem Zahra\\\\Downloads\\\\CS67_Fall2022_ A1_Dataset\\\\00003\\\\00758_00000.ppm',\n",
       " 'C:\\\\Users\\\\Tasleem Zahra\\\\Downloads\\\\CS67_Fall2022_ A1_Dataset\\\\00003\\\\00758_00001.ppm',\n",
       " 'C:\\\\Users\\\\Tasleem Zahra\\\\Downloads\\\\CS67_Fall2022_ A1_Dataset\\\\00003\\\\00758_00002.ppm',\n",
       " 'C:\\\\Users\\\\Tasleem Zahra\\\\Downloads\\\\CS67_Fall2022_ A1_Dataset\\\\00003\\\\00762_00000.ppm',\n",
       " 'C:\\\\Users\\\\Tasleem Zahra\\\\Downloads\\\\CS67_Fall2022_ A1_Dataset\\\\00003\\\\00762_00001.ppm',\n",
       " 'C:\\\\Users\\\\Tasleem Zahra\\\\Downloads\\\\CS67_Fall2022_ A1_Dataset\\\\00003\\\\00762_00002.ppm',\n",
       " 'C:\\\\Users\\\\Tasleem Zahra\\\\Downloads\\\\CS67_Fall2022_ A1_Dataset\\\\00003\\\\01529_00000.ppm',\n",
       " 'C:\\\\Users\\\\Tasleem Zahra\\\\Downloads\\\\CS67_Fall2022_ A1_Dataset\\\\00003\\\\01529_00001.ppm',\n",
       " 'C:\\\\Users\\\\Tasleem Zahra\\\\Downloads\\\\CS67_Fall2022_ A1_Dataset\\\\00003\\\\01529_00002.ppm',\n",
       " 'C:\\\\Users\\\\Tasleem Zahra\\\\Downloads\\\\CS67_Fall2022_ A1_Dataset\\\\00003\\\\01744_00000.ppm',\n",
       " 'C:\\\\Users\\\\Tasleem Zahra\\\\Downloads\\\\CS67_Fall2022_ A1_Dataset\\\\00003\\\\01763_00000.ppm',\n",
       " 'C:\\\\Users\\\\Tasleem Zahra\\\\Downloads\\\\CS67_Fall2022_ A1_Dataset\\\\00003\\\\01763_00001.ppm',\n",
       " 'C:\\\\Users\\\\Tasleem Zahra\\\\Downloads\\\\CS67_Fall2022_ A1_Dataset\\\\00003\\\\01763_00002.ppm',\n",
       " 'C:\\\\Users\\\\Tasleem Zahra\\\\Downloads\\\\CS67_Fall2022_ A1_Dataset\\\\00003\\\\01764_00000.ppm',\n",
       " 'C:\\\\Users\\\\Tasleem Zahra\\\\Downloads\\\\CS67_Fall2022_ A1_Dataset\\\\00003\\\\01764_00001.ppm',\n",
       " 'C:\\\\Users\\\\Tasleem Zahra\\\\Downloads\\\\CS67_Fall2022_ A1_Dataset\\\\00003\\\\01764_00002.ppm',\n",
       " 'C:\\\\Users\\\\Tasleem Zahra\\\\Downloads\\\\CS67_Fall2022_ A1_Dataset\\\\00003\\\\01773_00000.ppm',\n",
       " 'C:\\\\Users\\\\Tasleem Zahra\\\\Downloads\\\\CS67_Fall2022_ A1_Dataset\\\\00003\\\\01773_00001.ppm',\n",
       " 'C:\\\\Users\\\\Tasleem Zahra\\\\Downloads\\\\CS67_Fall2022_ A1_Dataset\\\\00003\\\\01773_00002.ppm',\n",
       " 'C:\\\\Users\\\\Tasleem Zahra\\\\Downloads\\\\CS67_Fall2022_ A1_Dataset\\\\00003\\\\01775_00000.ppm',\n",
       " 'C:\\\\Users\\\\Tasleem Zahra\\\\Downloads\\\\CS67_Fall2022_ A1_Dataset\\\\00003\\\\01775_00001.ppm',\n",
       " 'C:\\\\Users\\\\Tasleem Zahra\\\\Downloads\\\\CS67_Fall2022_ A1_Dataset\\\\00003\\\\01775_00002.ppm',\n",
       " 'C:\\\\Users\\\\Tasleem Zahra\\\\Downloads\\\\CS67_Fall2022_ A1_Dataset\\\\00003\\\\01807_00000.ppm',\n",
       " 'C:\\\\Users\\\\Tasleem Zahra\\\\Downloads\\\\CS67_Fall2022_ A1_Dataset\\\\00003\\\\01807_00001.ppm',\n",
       " 'C:\\\\Users\\\\Tasleem Zahra\\\\Downloads\\\\CS67_Fall2022_ A1_Dataset\\\\00003\\\\01807_00002.ppm',\n",
       " 'C:\\\\Users\\\\Tasleem Zahra\\\\Downloads\\\\CS67_Fall2022_ A1_Dataset\\\\00003\\\\01815_00000.ppm',\n",
       " 'C:\\\\Users\\\\Tasleem Zahra\\\\Downloads\\\\CS67_Fall2022_ A1_Dataset\\\\00003\\\\01815_00001.ppm',\n",
       " 'C:\\\\Users\\\\Tasleem Zahra\\\\Downloads\\\\CS67_Fall2022_ A1_Dataset\\\\00003\\\\01815_00002.ppm',\n",
       " 'C:\\\\Users\\\\Tasleem Zahra\\\\Downloads\\\\CS67_Fall2022_ A1_Dataset\\\\00003\\\\01816_00000.ppm',\n",
       " 'C:\\\\Users\\\\Tasleem Zahra\\\\Downloads\\\\CS67_Fall2022_ A1_Dataset\\\\00003\\\\01816_00001.ppm',\n",
       " 'C:\\\\Users\\\\Tasleem Zahra\\\\Downloads\\\\CS67_Fall2022_ A1_Dataset\\\\00003\\\\01816_00002.ppm',\n",
       " 'C:\\\\Users\\\\Tasleem Zahra\\\\Downloads\\\\CS67_Fall2022_ A1_Dataset\\\\00003\\\\01817_00000.ppm',\n",
       " 'C:\\\\Users\\\\Tasleem Zahra\\\\Downloads\\\\CS67_Fall2022_ A1_Dataset\\\\00003\\\\01817_00001.ppm',\n",
       " 'C:\\\\Users\\\\Tasleem Zahra\\\\Downloads\\\\CS67_Fall2022_ A1_Dataset\\\\00003\\\\01817_00002.ppm',\n",
       " 'C:\\\\Users\\\\Tasleem Zahra\\\\Downloads\\\\CS67_Fall2022_ A1_Dataset\\\\00003\\\\01818_00000.ppm',\n",
       " 'C:\\\\Users\\\\Tasleem Zahra\\\\Downloads\\\\CS67_Fall2022_ A1_Dataset\\\\00003\\\\01818_00001.ppm',\n",
       " 'C:\\\\Users\\\\Tasleem Zahra\\\\Downloads\\\\CS67_Fall2022_ A1_Dataset\\\\00003\\\\01818_00002.ppm',\n",
       " 'C:\\\\Users\\\\Tasleem Zahra\\\\Downloads\\\\CS67_Fall2022_ A1_Dataset\\\\00003\\\\01820_00000.ppm',\n",
       " 'C:\\\\Users\\\\Tasleem Zahra\\\\Downloads\\\\CS67_Fall2022_ A1_Dataset\\\\00003\\\\01820_00001.ppm',\n",
       " 'C:\\\\Users\\\\Tasleem Zahra\\\\Downloads\\\\CS67_Fall2022_ A1_Dataset\\\\00003\\\\01820_00002.ppm',\n",
       " 'C:\\\\Users\\\\Tasleem Zahra\\\\Downloads\\\\CS67_Fall2022_ A1_Dataset\\\\00003\\\\01823_00000.ppm',\n",
       " 'C:\\\\Users\\\\Tasleem Zahra\\\\Downloads\\\\CS67_Fall2022_ A1_Dataset\\\\00003\\\\01823_00001.ppm',\n",
       " 'C:\\\\Users\\\\Tasleem Zahra\\\\Downloads\\\\CS67_Fall2022_ A1_Dataset\\\\00003\\\\01823_00002.ppm',\n",
       " 'C:\\\\Users\\\\Tasleem Zahra\\\\Downloads\\\\CS67_Fall2022_ A1_Dataset\\\\00003\\\\01824_00000.ppm',\n",
       " 'C:\\\\Users\\\\Tasleem Zahra\\\\Downloads\\\\CS67_Fall2022_ A1_Dataset\\\\00003\\\\01824_00001.ppm',\n",
       " 'C:\\\\Users\\\\Tasleem Zahra\\\\Downloads\\\\CS67_Fall2022_ A1_Dataset\\\\00003\\\\01828_00000.ppm',\n",
       " 'C:\\\\Users\\\\Tasleem Zahra\\\\Downloads\\\\CS67_Fall2022_ A1_Dataset\\\\00003\\\\01828_00001.ppm',\n",
       " 'C:\\\\Users\\\\Tasleem Zahra\\\\Downloads\\\\CS67_Fall2022_ A1_Dataset\\\\00003\\\\01828_00002.ppm',\n",
       " 'C:\\\\Users\\\\Tasleem Zahra\\\\Downloads\\\\CS67_Fall2022_ A1_Dataset\\\\00003\\\\01846_00000.ppm',\n",
       " 'C:\\\\Users\\\\Tasleem Zahra\\\\Downloads\\\\CS67_Fall2022_ A1_Dataset\\\\00003\\\\01846_00001.ppm',\n",
       " 'C:\\\\Users\\\\Tasleem Zahra\\\\Downloads\\\\CS67_Fall2022_ A1_Dataset\\\\00003\\\\01846_00002.ppm',\n",
       " 'C:\\\\Users\\\\Tasleem Zahra\\\\Downloads\\\\CS67_Fall2022_ A1_Dataset\\\\00003\\\\01847_00000.ppm',\n",
       " 'C:\\\\Users\\\\Tasleem Zahra\\\\Downloads\\\\CS67_Fall2022_ A1_Dataset\\\\00003\\\\01847_00001.ppm',\n",
       " 'C:\\\\Users\\\\Tasleem Zahra\\\\Downloads\\\\CS67_Fall2022_ A1_Dataset\\\\00003\\\\01847_00002.ppm',\n",
       " 'C:\\\\Users\\\\Tasleem Zahra\\\\Downloads\\\\CS67_Fall2022_ A1_Dataset\\\\00003\\\\01848_00000.ppm',\n",
       " 'C:\\\\Users\\\\Tasleem Zahra\\\\Downloads\\\\CS67_Fall2022_ A1_Dataset\\\\00003\\\\01848_00001.ppm',\n",
       " 'C:\\\\Users\\\\Tasleem Zahra\\\\Downloads\\\\CS67_Fall2022_ A1_Dataset\\\\00003\\\\01848_00002.ppm',\n",
       " 'C:\\\\Users\\\\Tasleem Zahra\\\\Downloads\\\\CS67_Fall2022_ A1_Dataset\\\\00003\\\\01849_00000.ppm',\n",
       " 'C:\\\\Users\\\\Tasleem Zahra\\\\Downloads\\\\CS67_Fall2022_ A1_Dataset\\\\00003\\\\01849_00001.ppm',\n",
       " 'C:\\\\Users\\\\Tasleem Zahra\\\\Downloads\\\\CS67_Fall2022_ A1_Dataset\\\\00003\\\\01849_00002.ppm',\n",
       " 'C:\\\\Users\\\\Tasleem Zahra\\\\Downloads\\\\CS67_Fall2022_ A1_Dataset\\\\00003\\\\01852_00000.ppm',\n",
       " 'C:\\\\Users\\\\Tasleem Zahra\\\\Downloads\\\\CS67_Fall2022_ A1_Dataset\\\\00003\\\\01852_00001.ppm',\n",
       " 'C:\\\\Users\\\\Tasleem Zahra\\\\Downloads\\\\CS67_Fall2022_ A1_Dataset\\\\00003\\\\01852_00002.ppm',\n",
       " 'C:\\\\Users\\\\Tasleem Zahra\\\\Downloads\\\\CS67_Fall2022_ A1_Dataset\\\\00004\\\\00770_00000.ppm',\n",
       " 'C:\\\\Users\\\\Tasleem Zahra\\\\Downloads\\\\CS67_Fall2022_ A1_Dataset\\\\00004\\\\00770_00001.ppm',\n",
       " 'C:\\\\Users\\\\Tasleem Zahra\\\\Downloads\\\\CS67_Fall2022_ A1_Dataset\\\\00004\\\\00770_00002.ppm',\n",
       " 'C:\\\\Users\\\\Tasleem Zahra\\\\Downloads\\\\CS67_Fall2022_ A1_Dataset\\\\00004\\\\00781_00000.ppm',\n",
       " 'C:\\\\Users\\\\Tasleem Zahra\\\\Downloads\\\\CS67_Fall2022_ A1_Dataset\\\\00004\\\\00781_00001.ppm',\n",
       " 'C:\\\\Users\\\\Tasleem Zahra\\\\Downloads\\\\CS67_Fall2022_ A1_Dataset\\\\00004\\\\00781_00002.ppm',\n",
       " 'C:\\\\Users\\\\Tasleem Zahra\\\\Downloads\\\\CS67_Fall2022_ A1_Dataset\\\\00004\\\\00987_00000.ppm',\n",
       " 'C:\\\\Users\\\\Tasleem Zahra\\\\Downloads\\\\CS67_Fall2022_ A1_Dataset\\\\00004\\\\00987_00001.ppm',\n",
       " 'C:\\\\Users\\\\Tasleem Zahra\\\\Downloads\\\\CS67_Fall2022_ A1_Dataset\\\\00004\\\\01017_00000.ppm',\n",
       " 'C:\\\\Users\\\\Tasleem Zahra\\\\Downloads\\\\CS67_Fall2022_ A1_Dataset\\\\00004\\\\01017_00001.ppm',\n",
       " 'C:\\\\Users\\\\Tasleem Zahra\\\\Downloads\\\\CS67_Fall2022_ A1_Dataset\\\\00004\\\\01017_00002.ppm',\n",
       " 'C:\\\\Users\\\\Tasleem Zahra\\\\Downloads\\\\CS67_Fall2022_ A1_Dataset\\\\00004\\\\01061_00000.ppm',\n",
       " 'C:\\\\Users\\\\Tasleem Zahra\\\\Downloads\\\\CS67_Fall2022_ A1_Dataset\\\\00004\\\\01061_00002.ppm',\n",
       " 'C:\\\\Users\\\\Tasleem Zahra\\\\Downloads\\\\CS67_Fall2022_ A1_Dataset\\\\00004\\\\01061_00003.ppm',\n",
       " 'C:\\\\Users\\\\Tasleem Zahra\\\\Downloads\\\\CS67_Fall2022_ A1_Dataset\\\\00004\\\\01062_00000.ppm',\n",
       " 'C:\\\\Users\\\\Tasleem Zahra\\\\Downloads\\\\CS67_Fall2022_ A1_Dataset\\\\00004\\\\01062_00001.ppm',\n",
       " 'C:\\\\Users\\\\Tasleem Zahra\\\\Downloads\\\\CS67_Fall2022_ A1_Dataset\\\\00004\\\\01062_00002.ppm',\n",
       " 'C:\\\\Users\\\\Tasleem Zahra\\\\Downloads\\\\CS67_Fall2022_ A1_Dataset\\\\00004\\\\01077_00000.ppm',\n",
       " 'C:\\\\Users\\\\Tasleem Zahra\\\\Downloads\\\\CS67_Fall2022_ A1_Dataset\\\\00004\\\\01077_00001.ppm',\n",
       " 'C:\\\\Users\\\\Tasleem Zahra\\\\Downloads\\\\CS67_Fall2022_ A1_Dataset\\\\00004\\\\01077_00002.ppm',\n",
       " 'C:\\\\Users\\\\Tasleem Zahra\\\\Downloads\\\\CS67_Fall2022_ A1_Dataset\\\\00004\\\\01081_00000.ppm',\n",
       " 'C:\\\\Users\\\\Tasleem Zahra\\\\Downloads\\\\CS67_Fall2022_ A1_Dataset\\\\00004\\\\01081_00001.ppm',\n",
       " 'C:\\\\Users\\\\Tasleem Zahra\\\\Downloads\\\\CS67_Fall2022_ A1_Dataset\\\\00004\\\\01081_00002.ppm',\n",
       " 'C:\\\\Users\\\\Tasleem Zahra\\\\Downloads\\\\CS67_Fall2022_ A1_Dataset\\\\00004\\\\01138_00000.ppm',\n",
       " 'C:\\\\Users\\\\Tasleem Zahra\\\\Downloads\\\\CS67_Fall2022_ A1_Dataset\\\\00004\\\\01138_00001.ppm',\n",
       " 'C:\\\\Users\\\\Tasleem Zahra\\\\Downloads\\\\CS67_Fall2022_ A1_Dataset\\\\00004\\\\01138_00002.ppm',\n",
       " 'C:\\\\Users\\\\Tasleem Zahra\\\\Downloads\\\\CS67_Fall2022_ A1_Dataset\\\\00004\\\\01139_00002.ppm',\n",
       " 'C:\\\\Users\\\\Tasleem Zahra\\\\Downloads\\\\CS67_Fall2022_ A1_Dataset\\\\00004\\\\01152_00000.ppm',\n",
       " 'C:\\\\Users\\\\Tasleem Zahra\\\\Downloads\\\\CS67_Fall2022_ A1_Dataset\\\\00004\\\\01152_00001.ppm',\n",
       " 'C:\\\\Users\\\\Tasleem Zahra\\\\Downloads\\\\CS67_Fall2022_ A1_Dataset\\\\00004\\\\01152_00002.ppm',\n",
       " 'C:\\\\Users\\\\Tasleem Zahra\\\\Downloads\\\\CS67_Fall2022_ A1_Dataset\\\\00004\\\\01159_00000.ppm',\n",
       " 'C:\\\\Users\\\\Tasleem Zahra\\\\Downloads\\\\CS67_Fall2022_ A1_Dataset\\\\00004\\\\01159_00001.ppm',\n",
       " 'C:\\\\Users\\\\Tasleem Zahra\\\\Downloads\\\\CS67_Fall2022_ A1_Dataset\\\\00004\\\\01159_00002.ppm',\n",
       " 'C:\\\\Users\\\\Tasleem Zahra\\\\Downloads\\\\CS67_Fall2022_ A1_Dataset\\\\00004\\\\01186_00000.ppm',\n",
       " 'C:\\\\Users\\\\Tasleem Zahra\\\\Downloads\\\\CS67_Fall2022_ A1_Dataset\\\\00004\\\\01186_00001.ppm',\n",
       " 'C:\\\\Users\\\\Tasleem Zahra\\\\Downloads\\\\CS67_Fall2022_ A1_Dataset\\\\00004\\\\01186_00002.ppm',\n",
       " 'C:\\\\Users\\\\Tasleem Zahra\\\\Downloads\\\\CS67_Fall2022_ A1_Dataset\\\\00004\\\\01189_00000.ppm',\n",
       " 'C:\\\\Users\\\\Tasleem Zahra\\\\Downloads\\\\CS67_Fall2022_ A1_Dataset\\\\00004\\\\01189_00001.ppm',\n",
       " 'C:\\\\Users\\\\Tasleem Zahra\\\\Downloads\\\\CS67_Fall2022_ A1_Dataset\\\\00004\\\\01189_00002.ppm',\n",
       " 'C:\\\\Users\\\\Tasleem Zahra\\\\Downloads\\\\CS67_Fall2022_ A1_Dataset\\\\00004\\\\01195_00000.ppm',\n",
       " 'C:\\\\Users\\\\Tasleem Zahra\\\\Downloads\\\\CS67_Fall2022_ A1_Dataset\\\\00004\\\\01195_00001.ppm',\n",
       " 'C:\\\\Users\\\\Tasleem Zahra\\\\Downloads\\\\CS67_Fall2022_ A1_Dataset\\\\00004\\\\01195_00002.ppm',\n",
       " 'C:\\\\Users\\\\Tasleem Zahra\\\\Downloads\\\\CS67_Fall2022_ A1_Dataset\\\\00004\\\\01393_00000.ppm',\n",
       " 'C:\\\\Users\\\\Tasleem Zahra\\\\Downloads\\\\CS67_Fall2022_ A1_Dataset\\\\00004\\\\01393_00001.ppm',\n",
       " 'C:\\\\Users\\\\Tasleem Zahra\\\\Downloads\\\\CS67_Fall2022_ A1_Dataset\\\\00004\\\\01406_00000.ppm',\n",
       " 'C:\\\\Users\\\\Tasleem Zahra\\\\Downloads\\\\CS67_Fall2022_ A1_Dataset\\\\00004\\\\01406_00001.ppm',\n",
       " 'C:\\\\Users\\\\Tasleem Zahra\\\\Downloads\\\\CS67_Fall2022_ A1_Dataset\\\\00004\\\\01406_00002.ppm',\n",
       " 'C:\\\\Users\\\\Tasleem Zahra\\\\Downloads\\\\CS67_Fall2022_ A1_Dataset\\\\00004\\\\01423_00000.ppm',\n",
       " 'C:\\\\Users\\\\Tasleem Zahra\\\\Downloads\\\\CS67_Fall2022_ A1_Dataset\\\\00004\\\\01423_00001.ppm',\n",
       " 'C:\\\\Users\\\\Tasleem Zahra\\\\Downloads\\\\CS67_Fall2022_ A1_Dataset\\\\00004\\\\01426_00000.ppm',\n",
       " 'C:\\\\Users\\\\Tasleem Zahra\\\\Downloads\\\\CS67_Fall2022_ A1_Dataset\\\\00004\\\\01426_00001.ppm',\n",
       " 'C:\\\\Users\\\\Tasleem Zahra\\\\Downloads\\\\CS67_Fall2022_ A1_Dataset\\\\00004\\\\01433_00000.ppm',\n",
       " 'C:\\\\Users\\\\Tasleem Zahra\\\\Downloads\\\\CS67_Fall2022_ A1_Dataset\\\\00004\\\\01433_00001.ppm',\n",
       " 'C:\\\\Users\\\\Tasleem Zahra\\\\Downloads\\\\CS67_Fall2022_ A1_Dataset\\\\00004\\\\01433_00002.ppm',\n",
       " 'C:\\\\Users\\\\Tasleem Zahra\\\\Downloads\\\\CS67_Fall2022_ A1_Dataset\\\\00004\\\\01485_00002.ppm',\n",
       " 'C:\\\\Users\\\\Tasleem Zahra\\\\Downloads\\\\CS67_Fall2022_ A1_Dataset\\\\00004\\\\01531_00000.ppm',\n",
       " 'C:\\\\Users\\\\Tasleem Zahra\\\\Downloads\\\\CS67_Fall2022_ A1_Dataset\\\\00004\\\\01531_00001.ppm',\n",
       " 'C:\\\\Users\\\\Tasleem Zahra\\\\Downloads\\\\CS67_Fall2022_ A1_Dataset\\\\00004\\\\01531_00002.ppm',\n",
       " 'C:\\\\Users\\\\Tasleem Zahra\\\\Downloads\\\\CS67_Fall2022_ A1_Dataset\\\\00004\\\\01598_00000.ppm',\n",
       " 'C:\\\\Users\\\\Tasleem Zahra\\\\Downloads\\\\CS67_Fall2022_ A1_Dataset\\\\00004\\\\01598_00001.ppm',\n",
       " 'C:\\\\Users\\\\Tasleem Zahra\\\\Downloads\\\\CS67_Fall2022_ A1_Dataset\\\\00004\\\\01598_00002.ppm',\n",
       " 'C:\\\\Users\\\\Tasleem Zahra\\\\Downloads\\\\CS67_Fall2022_ A1_Dataset\\\\00004\\\\01605_00000.ppm',\n",
       " 'C:\\\\Users\\\\Tasleem Zahra\\\\Downloads\\\\CS67_Fall2022_ A1_Dataset\\\\00004\\\\01605_00001.ppm',\n",
       " 'C:\\\\Users\\\\Tasleem Zahra\\\\Downloads\\\\CS67_Fall2022_ A1_Dataset\\\\00004\\\\01653_00000.ppm',\n",
       " 'C:\\\\Users\\\\Tasleem Zahra\\\\Downloads\\\\CS67_Fall2022_ A1_Dataset\\\\00004\\\\01653_00001.ppm',\n",
       " 'C:\\\\Users\\\\Tasleem Zahra\\\\Downloads\\\\CS67_Fall2022_ A1_Dataset\\\\00004\\\\01653_00002.ppm',\n",
       " 'C:\\\\Users\\\\Tasleem Zahra\\\\Downloads\\\\CS67_Fall2022_ A1_Dataset\\\\00004\\\\01700_00000.ppm',\n",
       " 'C:\\\\Users\\\\Tasleem Zahra\\\\Downloads\\\\CS67_Fall2022_ A1_Dataset\\\\00004\\\\01700_00001.ppm',\n",
       " 'C:\\\\Users\\\\Tasleem Zahra\\\\Downloads\\\\CS67_Fall2022_ A1_Dataset\\\\00004\\\\01782_00000.ppm',\n",
       " 'C:\\\\Users\\\\Tasleem Zahra\\\\Downloads\\\\CS67_Fall2022_ A1_Dataset\\\\00004\\\\01782_00001.ppm',\n",
       " 'C:\\\\Users\\\\Tasleem Zahra\\\\Downloads\\\\CS67_Fall2022_ A1_Dataset\\\\00004\\\\01782_00002.ppm',\n",
       " 'C:\\\\Users\\\\Tasleem Zahra\\\\Downloads\\\\CS67_Fall2022_ A1_Dataset\\\\00004\\\\01794_00000.ppm',\n",
       " 'C:\\\\Users\\\\Tasleem Zahra\\\\Downloads\\\\CS67_Fall2022_ A1_Dataset\\\\00004\\\\01794_00001.ppm',\n",
       " 'C:\\\\Users\\\\Tasleem Zahra\\\\Downloads\\\\CS67_Fall2022_ A1_Dataset\\\\00004\\\\01794_00002.ppm',\n",
       " 'C:\\\\Users\\\\Tasleem Zahra\\\\Downloads\\\\CS67_Fall2022_ A1_Dataset\\\\00004\\\\01801_00000.ppm',\n",
       " 'C:\\\\Users\\\\Tasleem Zahra\\\\Downloads\\\\CS67_Fall2022_ A1_Dataset\\\\00004\\\\01801_00001.ppm',\n",
       " 'C:\\\\Users\\\\Tasleem Zahra\\\\Downloads\\\\CS67_Fall2022_ A1_Dataset\\\\00004\\\\01801_00002.ppm',\n",
       " 'C:\\\\Users\\\\Tasleem Zahra\\\\Downloads\\\\CS67_Fall2022_ A1_Dataset\\\\00004\\\\01880_00000.ppm',\n",
       " 'C:\\\\Users\\\\Tasleem Zahra\\\\Downloads\\\\CS67_Fall2022_ A1_Dataset\\\\00004\\\\01880_00001.ppm',\n",
       " 'C:\\\\Users\\\\Tasleem Zahra\\\\Downloads\\\\CS67_Fall2022_ A1_Dataset\\\\00004\\\\01880_00002.ppm',\n",
       " 'C:\\\\Users\\\\Tasleem Zahra\\\\Downloads\\\\CS67_Fall2022_ A1_Dataset\\\\00005\\\\00560_00002.ppm',\n",
       " 'C:\\\\Users\\\\Tasleem Zahra\\\\Downloads\\\\CS67_Fall2022_ A1_Dataset\\\\00005\\\\00570_00000.ppm',\n",
       " 'C:\\\\Users\\\\Tasleem Zahra\\\\Downloads\\\\CS67_Fall2022_ A1_Dataset\\\\00005\\\\00570_00001.ppm',\n",
       " 'C:\\\\Users\\\\Tasleem Zahra\\\\Downloads\\\\CS67_Fall2022_ A1_Dataset\\\\00005\\\\00570_00002.ppm',\n",
       " 'C:\\\\Users\\\\Tasleem Zahra\\\\Downloads\\\\CS67_Fall2022_ A1_Dataset\\\\00005\\\\00571_00000.ppm',\n",
       " 'C:\\\\Users\\\\Tasleem Zahra\\\\Downloads\\\\CS67_Fall2022_ A1_Dataset\\\\00005\\\\00571_00001.ppm',\n",
       " 'C:\\\\Users\\\\Tasleem Zahra\\\\Downloads\\\\CS67_Fall2022_ A1_Dataset\\\\00005\\\\00571_00002.ppm',\n",
       " 'C:\\\\Users\\\\Tasleem Zahra\\\\Downloads\\\\CS67_Fall2022_ A1_Dataset\\\\00005\\\\00678_00000.ppm',\n",
       " 'C:\\\\Users\\\\Tasleem Zahra\\\\Downloads\\\\CS67_Fall2022_ A1_Dataset\\\\00005\\\\00678_00001.ppm',\n",
       " 'C:\\\\Users\\\\Tasleem Zahra\\\\Downloads\\\\CS67_Fall2022_ A1_Dataset\\\\00005\\\\00678_00002.ppm',\n",
       " 'C:\\\\Users\\\\Tasleem Zahra\\\\Downloads\\\\CS67_Fall2022_ A1_Dataset\\\\00005\\\\00687_00000.ppm',\n",
       " 'C:\\\\Users\\\\Tasleem Zahra\\\\Downloads\\\\CS67_Fall2022_ A1_Dataset\\\\00005\\\\00687_00001.ppm',\n",
       " 'C:\\\\Users\\\\Tasleem Zahra\\\\Downloads\\\\CS67_Fall2022_ A1_Dataset\\\\00005\\\\00687_00002.ppm',\n",
       " 'C:\\\\Users\\\\Tasleem Zahra\\\\Downloads\\\\CS67_Fall2022_ A1_Dataset\\\\00005\\\\00702_00000.ppm',\n",
       " 'C:\\\\Users\\\\Tasleem Zahra\\\\Downloads\\\\CS67_Fall2022_ A1_Dataset\\\\00005\\\\00702_00001.ppm',\n",
       " 'C:\\\\Users\\\\Tasleem Zahra\\\\Downloads\\\\CS67_Fall2022_ A1_Dataset\\\\00005\\\\00702_00002.ppm',\n",
       " 'C:\\\\Users\\\\Tasleem Zahra\\\\Downloads\\\\CS67_Fall2022_ A1_Dataset\\\\00005\\\\00725_00000.ppm',\n",
       " 'C:\\\\Users\\\\Tasleem Zahra\\\\Downloads\\\\CS67_Fall2022_ A1_Dataset\\\\00005\\\\00725_00001.ppm',\n",
       " 'C:\\\\Users\\\\Tasleem Zahra\\\\Downloads\\\\CS67_Fall2022_ A1_Dataset\\\\00005\\\\00725_00002.ppm',\n",
       " 'C:\\\\Users\\\\Tasleem Zahra\\\\Downloads\\\\CS67_Fall2022_ A1_Dataset\\\\00005\\\\00882_00000.ppm',\n",
       " 'C:\\\\Users\\\\Tasleem Zahra\\\\Downloads\\\\CS67_Fall2022_ A1_Dataset\\\\00005\\\\00882_00001.ppm',\n",
       " 'C:\\\\Users\\\\Tasleem Zahra\\\\Downloads\\\\CS67_Fall2022_ A1_Dataset\\\\00005\\\\00882_00002.ppm',\n",
       " 'C:\\\\Users\\\\Tasleem Zahra\\\\Downloads\\\\CS67_Fall2022_ A1_Dataset\\\\00005\\\\00888_00000.ppm',\n",
       " 'C:\\\\Users\\\\Tasleem Zahra\\\\Downloads\\\\CS67_Fall2022_ A1_Dataset\\\\00005\\\\00888_00001.ppm',\n",
       " 'C:\\\\Users\\\\Tasleem Zahra\\\\Downloads\\\\CS67_Fall2022_ A1_Dataset\\\\00005\\\\00888_00002.ppm',\n",
       " 'C:\\\\Users\\\\Tasleem Zahra\\\\Downloads\\\\CS67_Fall2022_ A1_Dataset\\\\00005\\\\00905_00000.ppm',\n",
       " 'C:\\\\Users\\\\Tasleem Zahra\\\\Downloads\\\\CS67_Fall2022_ A1_Dataset\\\\00005\\\\00905_00001.ppm',\n",
       " 'C:\\\\Users\\\\Tasleem Zahra\\\\Downloads\\\\CS67_Fall2022_ A1_Dataset\\\\00005\\\\00905_00002.ppm',\n",
       " 'C:\\\\Users\\\\Tasleem Zahra\\\\Downloads\\\\CS67_Fall2022_ A1_Dataset\\\\00005\\\\00907_00000.ppm',\n",
       " 'C:\\\\Users\\\\Tasleem Zahra\\\\Downloads\\\\CS67_Fall2022_ A1_Dataset\\\\00005\\\\00907_00001.ppm',\n",
       " 'C:\\\\Users\\\\Tasleem Zahra\\\\Downloads\\\\CS67_Fall2022_ A1_Dataset\\\\00005\\\\00907_00002.ppm',\n",
       " 'C:\\\\Users\\\\Tasleem Zahra\\\\Downloads\\\\CS67_Fall2022_ A1_Dataset\\\\00005\\\\00926_00000.ppm',\n",
       " 'C:\\\\Users\\\\Tasleem Zahra\\\\Downloads\\\\CS67_Fall2022_ A1_Dataset\\\\00005\\\\00926_00001.ppm',\n",
       " 'C:\\\\Users\\\\Tasleem Zahra\\\\Downloads\\\\CS67_Fall2022_ A1_Dataset\\\\00005\\\\00929_00000.ppm',\n",
       " 'C:\\\\Users\\\\Tasleem Zahra\\\\Downloads\\\\CS67_Fall2022_ A1_Dataset\\\\00005\\\\00929_00001.ppm',\n",
       " 'C:\\\\Users\\\\Tasleem Zahra\\\\Downloads\\\\CS67_Fall2022_ A1_Dataset\\\\00005\\\\00929_00002.ppm',\n",
       " 'C:\\\\Users\\\\Tasleem Zahra\\\\Downloads\\\\CS67_Fall2022_ A1_Dataset\\\\00005\\\\00932_00000.ppm',\n",
       " 'C:\\\\Users\\\\Tasleem Zahra\\\\Downloads\\\\CS67_Fall2022_ A1_Dataset\\\\00005\\\\00932_00001.ppm',\n",
       " 'C:\\\\Users\\\\Tasleem Zahra\\\\Downloads\\\\CS67_Fall2022_ A1_Dataset\\\\00005\\\\00932_00002.ppm',\n",
       " 'C:\\\\Users\\\\Tasleem Zahra\\\\Downloads\\\\CS67_Fall2022_ A1_Dataset\\\\00005\\\\00936_00000.ppm',\n",
       " 'C:\\\\Users\\\\Tasleem Zahra\\\\Downloads\\\\CS67_Fall2022_ A1_Dataset\\\\00005\\\\00936_00001.ppm',\n",
       " 'C:\\\\Users\\\\Tasleem Zahra\\\\Downloads\\\\CS67_Fall2022_ A1_Dataset\\\\00005\\\\00936_00002.ppm',\n",
       " 'C:\\\\Users\\\\Tasleem Zahra\\\\Downloads\\\\CS67_Fall2022_ A1_Dataset\\\\00005\\\\00939_00000.ppm',\n",
       " 'C:\\\\Users\\\\Tasleem Zahra\\\\Downloads\\\\CS67_Fall2022_ A1_Dataset\\\\00005\\\\00939_00001.ppm',\n",
       " 'C:\\\\Users\\\\Tasleem Zahra\\\\Downloads\\\\CS67_Fall2022_ A1_Dataset\\\\00005\\\\00939_00002.ppm',\n",
       " 'C:\\\\Users\\\\Tasleem Zahra\\\\Downloads\\\\CS67_Fall2022_ A1_Dataset\\\\00005\\\\01015_00000.ppm',\n",
       " 'C:\\\\Users\\\\Tasleem Zahra\\\\Downloads\\\\CS67_Fall2022_ A1_Dataset\\\\00005\\\\01015_00001.ppm',\n",
       " 'C:\\\\Users\\\\Tasleem Zahra\\\\Downloads\\\\CS67_Fall2022_ A1_Dataset\\\\00005\\\\01015_00002.ppm',\n",
       " 'C:\\\\Users\\\\Tasleem Zahra\\\\Downloads\\\\CS67_Fall2022_ A1_Dataset\\\\00005\\\\01044_00002.ppm',\n",
       " 'C:\\\\Users\\\\Tasleem Zahra\\\\Downloads\\\\CS67_Fall2022_ A1_Dataset\\\\00005\\\\01051_00000.ppm',\n",
       " 'C:\\\\Users\\\\Tasleem Zahra\\\\Downloads\\\\CS67_Fall2022_ A1_Dataset\\\\00005\\\\01051_00001.ppm',\n",
       " 'C:\\\\Users\\\\Tasleem Zahra\\\\Downloads\\\\CS67_Fall2022_ A1_Dataset\\\\00005\\\\01051_00002.ppm',\n",
       " 'C:\\\\Users\\\\Tasleem Zahra\\\\Downloads\\\\CS67_Fall2022_ A1_Dataset\\\\00005\\\\01057_00001.ppm',\n",
       " 'C:\\\\Users\\\\Tasleem Zahra\\\\Downloads\\\\CS67_Fall2022_ A1_Dataset\\\\00005\\\\01099_00001.ppm',\n",
       " 'C:\\\\Users\\\\Tasleem Zahra\\\\Downloads\\\\CS67_Fall2022_ A1_Dataset\\\\00005\\\\01156_00000.ppm',\n",
       " 'C:\\\\Users\\\\Tasleem Zahra\\\\Downloads\\\\CS67_Fall2022_ A1_Dataset\\\\00005\\\\01156_00001.ppm',\n",
       " 'C:\\\\Users\\\\Tasleem Zahra\\\\Downloads\\\\CS67_Fall2022_ A1_Dataset\\\\00005\\\\01156_00002.ppm',\n",
       " 'C:\\\\Users\\\\Tasleem Zahra\\\\Downloads\\\\CS67_Fall2022_ A1_Dataset\\\\00005\\\\01168_00000.ppm',\n",
       " 'C:\\\\Users\\\\Tasleem Zahra\\\\Downloads\\\\CS67_Fall2022_ A1_Dataset\\\\00005\\\\01168_00001.ppm',\n",
       " 'C:\\\\Users\\\\Tasleem Zahra\\\\Downloads\\\\CS67_Fall2022_ A1_Dataset\\\\00005\\\\01168_00002.ppm',\n",
       " 'C:\\\\Users\\\\Tasleem Zahra\\\\Downloads\\\\CS67_Fall2022_ A1_Dataset\\\\00005\\\\01171_00000.ppm',\n",
       " 'C:\\\\Users\\\\Tasleem Zahra\\\\Downloads\\\\CS67_Fall2022_ A1_Dataset\\\\00005\\\\01171_00001.ppm',\n",
       " 'C:\\\\Users\\\\Tasleem Zahra\\\\Downloads\\\\CS67_Fall2022_ A1_Dataset\\\\00005\\\\01171_00002.ppm',\n",
       " 'C:\\\\Users\\\\Tasleem Zahra\\\\Downloads\\\\CS67_Fall2022_ A1_Dataset\\\\00005\\\\01171_00003.ppm',\n",
       " 'C:\\\\Users\\\\Tasleem Zahra\\\\Downloads\\\\CS67_Fall2022_ A1_Dataset\\\\00005\\\\01173_00000.ppm',\n",
       " 'C:\\\\Users\\\\Tasleem Zahra\\\\Downloads\\\\CS67_Fall2022_ A1_Dataset\\\\00005\\\\01173_00001.ppm',\n",
       " 'C:\\\\Users\\\\Tasleem Zahra\\\\Downloads\\\\CS67_Fall2022_ A1_Dataset\\\\00005\\\\01173_00002.ppm',\n",
       " 'C:\\\\Users\\\\Tasleem Zahra\\\\Downloads\\\\CS67_Fall2022_ A1_Dataset\\\\00005\\\\01210_00000.ppm',\n",
       " 'C:\\\\Users\\\\Tasleem Zahra\\\\Downloads\\\\CS67_Fall2022_ A1_Dataset\\\\00005\\\\01210_00001.ppm',\n",
       " 'C:\\\\Users\\\\Tasleem Zahra\\\\Downloads\\\\CS67_Fall2022_ A1_Dataset\\\\00005\\\\01210_00002.ppm',\n",
       " 'C:\\\\Users\\\\Tasleem Zahra\\\\Downloads\\\\CS67_Fall2022_ A1_Dataset\\\\00005\\\\01224_00001.ppm',\n",
       " 'C:\\\\Users\\\\Tasleem Zahra\\\\Downloads\\\\CS67_Fall2022_ A1_Dataset\\\\00005\\\\01224_00002.ppm',\n",
       " 'C:\\\\Users\\\\Tasleem Zahra\\\\Downloads\\\\CS67_Fall2022_ A1_Dataset\\\\00005\\\\01245_00000.ppm',\n",
       " 'C:\\\\Users\\\\Tasleem Zahra\\\\Downloads\\\\CS67_Fall2022_ A1_Dataset\\\\00005\\\\01245_00001.ppm',\n",
       " 'C:\\\\Users\\\\Tasleem Zahra\\\\Downloads\\\\CS67_Fall2022_ A1_Dataset\\\\00005\\\\01245_00002.ppm',\n",
       " 'C:\\\\Users\\\\Tasleem Zahra\\\\Downloads\\\\CS67_Fall2022_ A1_Dataset\\\\00005\\\\01546_00000.ppm',\n",
       " 'C:\\\\Users\\\\Tasleem Zahra\\\\Downloads\\\\CS67_Fall2022_ A1_Dataset\\\\00005\\\\01546_00001.ppm',\n",
       " 'C:\\\\Users\\\\Tasleem Zahra\\\\Downloads\\\\CS67_Fall2022_ A1_Dataset\\\\00005\\\\01550_00001.ppm',\n",
       " 'C:\\\\Users\\\\Tasleem Zahra\\\\Downloads\\\\CS67_Fall2022_ A1_Dataset\\\\00005\\\\01560_00000.ppm',\n",
       " 'C:\\\\Users\\\\Tasleem Zahra\\\\Downloads\\\\CS67_Fall2022_ A1_Dataset\\\\00005\\\\01560_00001.ppm',\n",
       " 'C:\\\\Users\\\\Tasleem Zahra\\\\Downloads\\\\CS67_Fall2022_ A1_Dataset\\\\00006\\\\00459_00001.ppm',\n",
       " 'C:\\\\Users\\\\Tasleem Zahra\\\\Downloads\\\\CS67_Fall2022_ A1_Dataset\\\\00006\\\\00854_00000.ppm',\n",
       " 'C:\\\\Users\\\\Tasleem Zahra\\\\Downloads\\\\CS67_Fall2022_ A1_Dataset\\\\00006\\\\00854_00001.ppm',\n",
       " 'C:\\\\Users\\\\Tasleem Zahra\\\\Downloads\\\\CS67_Fall2022_ A1_Dataset\\\\00006\\\\00854_00002.ppm',\n",
       " 'C:\\\\Users\\\\Tasleem Zahra\\\\Downloads\\\\CS67_Fall2022_ A1_Dataset\\\\00006\\\\00916_00000.ppm',\n",
       " 'C:\\\\Users\\\\Tasleem Zahra\\\\Downloads\\\\CS67_Fall2022_ A1_Dataset\\\\00006\\\\00916_00001.ppm',\n",
       " 'C:\\\\Users\\\\Tasleem Zahra\\\\Downloads\\\\CS67_Fall2022_ A1_Dataset\\\\00006\\\\00916_00002.ppm',\n",
       " 'C:\\\\Users\\\\Tasleem Zahra\\\\Downloads\\\\CS67_Fall2022_ A1_Dataset\\\\00006\\\\00923_00001.ppm',\n",
       " 'C:\\\\Users\\\\Tasleem Zahra\\\\Downloads\\\\CS67_Fall2022_ A1_Dataset\\\\00006\\\\00942_00000.ppm',\n",
       " 'C:\\\\Users\\\\Tasleem Zahra\\\\Downloads\\\\CS67_Fall2022_ A1_Dataset\\\\00006\\\\00942_00001.ppm',\n",
       " 'C:\\\\Users\\\\Tasleem Zahra\\\\Downloads\\\\CS67_Fall2022_ A1_Dataset\\\\00006\\\\00960_00000.ppm',\n",
       " 'C:\\\\Users\\\\Tasleem Zahra\\\\Downloads\\\\CS67_Fall2022_ A1_Dataset\\\\00006\\\\00960_00001.ppm',\n",
       " 'C:\\\\Users\\\\Tasleem Zahra\\\\Downloads\\\\CS67_Fall2022_ A1_Dataset\\\\00006\\\\00960_00002.ppm',\n",
       " 'C:\\\\Users\\\\Tasleem Zahra\\\\Downloads\\\\CS67_Fall2022_ A1_Dataset\\\\00006\\\\00980_00002.ppm',\n",
       " 'C:\\\\Users\\\\Tasleem Zahra\\\\Downloads\\\\CS67_Fall2022_ A1_Dataset\\\\00006\\\\00981_00000.ppm',\n",
       " 'C:\\\\Users\\\\Tasleem Zahra\\\\Downloads\\\\CS67_Fall2022_ A1_Dataset\\\\00006\\\\00981_00001.ppm',\n",
       " 'C:\\\\Users\\\\Tasleem Zahra\\\\Downloads\\\\CS67_Fall2022_ A1_Dataset\\\\00006\\\\00981_00002.ppm',\n",
       " 'C:\\\\Users\\\\Tasleem Zahra\\\\Downloads\\\\CS67_Fall2022_ A1_Dataset\\\\00006\\\\00982_00000.ppm',\n",
       " 'C:\\\\Users\\\\Tasleem Zahra\\\\Downloads\\\\CS67_Fall2022_ A1_Dataset\\\\00006\\\\00982_00001.ppm',\n",
       " 'C:\\\\Users\\\\Tasleem Zahra\\\\Downloads\\\\CS67_Fall2022_ A1_Dataset\\\\00006\\\\00982_00002.ppm',\n",
       " 'C:\\\\Users\\\\Tasleem Zahra\\\\Downloads\\\\CS67_Fall2022_ A1_Dataset\\\\00006\\\\00983_00000.ppm',\n",
       " 'C:\\\\Users\\\\Tasleem Zahra\\\\Downloads\\\\CS67_Fall2022_ A1_Dataset\\\\00006\\\\00983_00001.ppm',\n",
       " 'C:\\\\Users\\\\Tasleem Zahra\\\\Downloads\\\\CS67_Fall2022_ A1_Dataset\\\\00006\\\\00983_00002.ppm',\n",
       " 'C:\\\\Users\\\\Tasleem Zahra\\\\Downloads\\\\CS67_Fall2022_ A1_Dataset\\\\00006\\\\01001_00000.ppm',\n",
       " 'C:\\\\Users\\\\Tasleem Zahra\\\\Downloads\\\\CS67_Fall2022_ A1_Dataset\\\\00006\\\\01001_00001.ppm',\n",
       " 'C:\\\\Users\\\\Tasleem Zahra\\\\Downloads\\\\CS67_Fall2022_ A1_Dataset\\\\00006\\\\01001_00002.ppm',\n",
       " 'C:\\\\Users\\\\Tasleem Zahra\\\\Downloads\\\\CS67_Fall2022_ A1_Dataset\\\\00006\\\\01010_00000.ppm',\n",
       " 'C:\\\\Users\\\\Tasleem Zahra\\\\Downloads\\\\CS67_Fall2022_ A1_Dataset\\\\00006\\\\01010_00001.ppm',\n",
       " 'C:\\\\Users\\\\Tasleem Zahra\\\\Downloads\\\\CS67_Fall2022_ A1_Dataset\\\\00006\\\\01010_00002.ppm',\n",
       " 'C:\\\\Users\\\\Tasleem Zahra\\\\Downloads\\\\CS67_Fall2022_ A1_Dataset\\\\00006\\\\01038_00000.ppm',\n",
       " 'C:\\\\Users\\\\Tasleem Zahra\\\\Downloads\\\\CS67_Fall2022_ A1_Dataset\\\\00006\\\\01038_00002.ppm',\n",
       " 'C:\\\\Users\\\\Tasleem Zahra\\\\Downloads\\\\CS67_Fall2022_ A1_Dataset\\\\00006\\\\01039_00000.ppm',\n",
       " 'C:\\\\Users\\\\Tasleem Zahra\\\\Downloads\\\\CS67_Fall2022_ A1_Dataset\\\\00006\\\\01039_00001.ppm',\n",
       " 'C:\\\\Users\\\\Tasleem Zahra\\\\Downloads\\\\CS67_Fall2022_ A1_Dataset\\\\00006\\\\01039_00002.ppm',\n",
       " 'C:\\\\Users\\\\Tasleem Zahra\\\\Downloads\\\\CS67_Fall2022_ A1_Dataset\\\\00006\\\\01101_00000.ppm',\n",
       " 'C:\\\\Users\\\\Tasleem Zahra\\\\Downloads\\\\CS67_Fall2022_ A1_Dataset\\\\00006\\\\01101_00001.ppm',\n",
       " 'C:\\\\Users\\\\Tasleem Zahra\\\\Downloads\\\\CS67_Fall2022_ A1_Dataset\\\\00006\\\\01101_00002.ppm',\n",
       " 'C:\\\\Users\\\\Tasleem Zahra\\\\Downloads\\\\CS67_Fall2022_ A1_Dataset\\\\00006\\\\01106_00000.ppm',\n",
       " 'C:\\\\Users\\\\Tasleem Zahra\\\\Downloads\\\\CS67_Fall2022_ A1_Dataset\\\\00006\\\\01106_00001.ppm',\n",
       " 'C:\\\\Users\\\\Tasleem Zahra\\\\Downloads\\\\CS67_Fall2022_ A1_Dataset\\\\00006\\\\01106_00002.ppm',\n",
       " 'C:\\\\Users\\\\Tasleem Zahra\\\\Downloads\\\\CS67_Fall2022_ A1_Dataset\\\\00006\\\\01190_00000.ppm',\n",
       " 'C:\\\\Users\\\\Tasleem Zahra\\\\Downloads\\\\CS67_Fall2022_ A1_Dataset\\\\00006\\\\01190_00001.ppm',\n",
       " 'C:\\\\Users\\\\Tasleem Zahra\\\\Downloads\\\\CS67_Fall2022_ A1_Dataset\\\\00006\\\\01190_00002.ppm',\n",
       " 'C:\\\\Users\\\\Tasleem Zahra\\\\Downloads\\\\CS67_Fall2022_ A1_Dataset\\\\00006\\\\01207_00000.ppm',\n",
       " 'C:\\\\Users\\\\Tasleem Zahra\\\\Downloads\\\\CS67_Fall2022_ A1_Dataset\\\\00006\\\\01207_00001.ppm',\n",
       " 'C:\\\\Users\\\\Tasleem Zahra\\\\Downloads\\\\CS67_Fall2022_ A1_Dataset\\\\00006\\\\01207_00002.ppm',\n",
       " 'C:\\\\Users\\\\Tasleem Zahra\\\\Downloads\\\\CS67_Fall2022_ A1_Dataset\\\\00006\\\\01209_00000.ppm',\n",
       " 'C:\\\\Users\\\\Tasleem Zahra\\\\Downloads\\\\CS67_Fall2022_ A1_Dataset\\\\00006\\\\01209_00001.ppm',\n",
       " 'C:\\\\Users\\\\Tasleem Zahra\\\\Downloads\\\\CS67_Fall2022_ A1_Dataset\\\\00006\\\\01209_00002.ppm',\n",
       " 'C:\\\\Users\\\\Tasleem Zahra\\\\Downloads\\\\CS67_Fall2022_ A1_Dataset\\\\00006\\\\01212_00000.ppm',\n",
       " 'C:\\\\Users\\\\Tasleem Zahra\\\\Downloads\\\\CS67_Fall2022_ A1_Dataset\\\\00006\\\\01212_00001.ppm',\n",
       " 'C:\\\\Users\\\\Tasleem Zahra\\\\Downloads\\\\CS67_Fall2022_ A1_Dataset\\\\00006\\\\01344_00001.ppm',\n",
       " 'C:\\\\Users\\\\Tasleem Zahra\\\\Downloads\\\\CS67_Fall2022_ A1_Dataset\\\\00006\\\\01344_00002.ppm',\n",
       " 'C:\\\\Users\\\\Tasleem Zahra\\\\Downloads\\\\CS67_Fall2022_ A1_Dataset\\\\00006\\\\01349_00000.ppm',\n",
       " 'C:\\\\Users\\\\Tasleem Zahra\\\\Downloads\\\\CS67_Fall2022_ A1_Dataset\\\\00006\\\\01349_00001.ppm',\n",
       " 'C:\\\\Users\\\\Tasleem Zahra\\\\Downloads\\\\CS67_Fall2022_ A1_Dataset\\\\00006\\\\01349_00002.ppm',\n",
       " 'C:\\\\Users\\\\Tasleem Zahra\\\\Downloads\\\\CS67_Fall2022_ A1_Dataset\\\\00006\\\\01355_00000.ppm',\n",
       " 'C:\\\\Users\\\\Tasleem Zahra\\\\Downloads\\\\CS67_Fall2022_ A1_Dataset\\\\00006\\\\01355_00001.ppm',\n",
       " 'C:\\\\Users\\\\Tasleem Zahra\\\\Downloads\\\\CS67_Fall2022_ A1_Dataset\\\\00006\\\\01355_00002.ppm',\n",
       " 'C:\\\\Users\\\\Tasleem Zahra\\\\Downloads\\\\CS67_Fall2022_ A1_Dataset\\\\00006\\\\01368_00000.ppm',\n",
       " 'C:\\\\Users\\\\Tasleem Zahra\\\\Downloads\\\\CS67_Fall2022_ A1_Dataset\\\\00006\\\\01368_00001.ppm',\n",
       " 'C:\\\\Users\\\\Tasleem Zahra\\\\Downloads\\\\CS67_Fall2022_ A1_Dataset\\\\00006\\\\01368_00002.ppm',\n",
       " 'C:\\\\Users\\\\Tasleem Zahra\\\\Downloads\\\\CS67_Fall2022_ A1_Dataset\\\\00006\\\\01513_00000.ppm',\n",
       " 'C:\\\\Users\\\\Tasleem Zahra\\\\Downloads\\\\CS67_Fall2022_ A1_Dataset\\\\00006\\\\01513_00001.ppm',\n",
       " 'C:\\\\Users\\\\Tasleem Zahra\\\\Downloads\\\\CS67_Fall2022_ A1_Dataset\\\\00006\\\\01513_00002.ppm',\n",
       " 'C:\\\\Users\\\\Tasleem Zahra\\\\Downloads\\\\CS67_Fall2022_ A1_Dataset\\\\00006\\\\01571_00000.ppm',\n",
       " 'C:\\\\Users\\\\Tasleem Zahra\\\\Downloads\\\\CS67_Fall2022_ A1_Dataset\\\\00006\\\\01571_00001.ppm',\n",
       " 'C:\\\\Users\\\\Tasleem Zahra\\\\Downloads\\\\CS67_Fall2022_ A1_Dataset\\\\00006\\\\01571_00002.ppm',\n",
       " 'C:\\\\Users\\\\Tasleem Zahra\\\\Downloads\\\\CS67_Fall2022_ A1_Dataset\\\\00006\\\\01749_00000.ppm',\n",
       " 'C:\\\\Users\\\\Tasleem Zahra\\\\Downloads\\\\CS67_Fall2022_ A1_Dataset\\\\00006\\\\01895_00000.ppm',\n",
       " 'C:\\\\Users\\\\Tasleem Zahra\\\\Downloads\\\\CS67_Fall2022_ A1_Dataset\\\\00006\\\\01895_00001.ppm',\n",
       " 'C:\\\\Users\\\\Tasleem Zahra\\\\Downloads\\\\CS67_Fall2022_ A1_Dataset\\\\00006\\\\01906_00000.ppm',\n",
       " 'C:\\\\Users\\\\Tasleem Zahra\\\\Downloads\\\\CS67_Fall2022_ A1_Dataset\\\\00006\\\\01906_00001.ppm',\n",
       " 'C:\\\\Users\\\\Tasleem Zahra\\\\Downloads\\\\CS67_Fall2022_ A1_Dataset\\\\00006\\\\01906_00002.ppm',\n",
       " 'C:\\\\Users\\\\Tasleem Zahra\\\\Downloads\\\\CS67_Fall2022_ A1_Dataset\\\\00006\\\\01928_00000.ppm',\n",
       " 'C:\\\\Users\\\\Tasleem Zahra\\\\Downloads\\\\CS67_Fall2022_ A1_Dataset\\\\00006\\\\01928_00001.ppm',\n",
       " 'C:\\\\Users\\\\Tasleem Zahra\\\\Downloads\\\\CS67_Fall2022_ A1_Dataset\\\\00006\\\\01928_00002.ppm',\n",
       " 'C:\\\\Users\\\\Tasleem Zahra\\\\Downloads\\\\CS67_Fall2022_ A1_Dataset\\\\00006\\\\01936_00000.ppm',\n",
       " 'C:\\\\Users\\\\Tasleem Zahra\\\\Downloads\\\\CS67_Fall2022_ A1_Dataset\\\\00006\\\\01936_00001.ppm',\n",
       " 'C:\\\\Users\\\\Tasleem Zahra\\\\Downloads\\\\CS67_Fall2022_ A1_Dataset\\\\00006\\\\01936_00002.ppm',\n",
       " 'C:\\\\Users\\\\Tasleem Zahra\\\\Downloads\\\\CS67_Fall2022_ A1_Dataset\\\\00007\\\\00407_00002.ppm',\n",
       " 'C:\\\\Users\\\\Tasleem Zahra\\\\Downloads\\\\CS67_Fall2022_ A1_Dataset\\\\00007\\\\00517_00000.ppm',\n",
       " 'C:\\\\Users\\\\Tasleem Zahra\\\\Downloads\\\\CS67_Fall2022_ A1_Dataset\\\\00007\\\\00517_00001.ppm',\n",
       " 'C:\\\\Users\\\\Tasleem Zahra\\\\Downloads\\\\CS67_Fall2022_ A1_Dataset\\\\00007\\\\00517_00002.ppm',\n",
       " 'C:\\\\Users\\\\Tasleem Zahra\\\\Downloads\\\\CS67_Fall2022_ A1_Dataset\\\\00007\\\\00589_00000.ppm',\n",
       " 'C:\\\\Users\\\\Tasleem Zahra\\\\Downloads\\\\CS67_Fall2022_ A1_Dataset\\\\00007\\\\00589_00001.ppm',\n",
       " 'C:\\\\Users\\\\Tasleem Zahra\\\\Downloads\\\\CS67_Fall2022_ A1_Dataset\\\\00007\\\\00589_00002.ppm',\n",
       " 'C:\\\\Users\\\\Tasleem Zahra\\\\Downloads\\\\CS67_Fall2022_ A1_Dataset\\\\00007\\\\00589_00008.ppm',\n",
       " 'C:\\\\Users\\\\Tasleem Zahra\\\\Downloads\\\\CS67_Fall2022_ A1_Dataset\\\\00007\\\\00589_00009.ppm',\n",
       " 'C:\\\\Users\\\\Tasleem Zahra\\\\Downloads\\\\CS67_Fall2022_ A1_Dataset\\\\00007\\\\00642_00000.ppm',\n",
       " 'C:\\\\Users\\\\Tasleem Zahra\\\\Downloads\\\\CS67_Fall2022_ A1_Dataset\\\\00007\\\\00642_00001.ppm',\n",
       " 'C:\\\\Users\\\\Tasleem Zahra\\\\Downloads\\\\CS67_Fall2022_ A1_Dataset\\\\00007\\\\00642_00002.ppm',\n",
       " 'C:\\\\Users\\\\Tasleem Zahra\\\\Downloads\\\\CS67_Fall2022_ A1_Dataset\\\\00007\\\\00662_00000.ppm',\n",
       " 'C:\\\\Users\\\\Tasleem Zahra\\\\Downloads\\\\CS67_Fall2022_ A1_Dataset\\\\00007\\\\00662_00001.ppm',\n",
       " 'C:\\\\Users\\\\Tasleem Zahra\\\\Downloads\\\\CS67_Fall2022_ A1_Dataset\\\\00007\\\\00662_00002.ppm',\n",
       " 'C:\\\\Users\\\\Tasleem Zahra\\\\Downloads\\\\CS67_Fall2022_ A1_Dataset\\\\00007\\\\00663_00000.ppm',\n",
       " 'C:\\\\Users\\\\Tasleem Zahra\\\\Downloads\\\\CS67_Fall2022_ A1_Dataset\\\\00007\\\\00663_00001.ppm',\n",
       " 'C:\\\\Users\\\\Tasleem Zahra\\\\Downloads\\\\CS67_Fall2022_ A1_Dataset\\\\00007\\\\00663_00002.ppm',\n",
       " 'C:\\\\Users\\\\Tasleem Zahra\\\\Downloads\\\\CS67_Fall2022_ A1_Dataset\\\\00007\\\\00779_00000.ppm',\n",
       " 'C:\\\\Users\\\\Tasleem Zahra\\\\Downloads\\\\CS67_Fall2022_ A1_Dataset\\\\00007\\\\00779_00001.ppm',\n",
       " 'C:\\\\Users\\\\Tasleem Zahra\\\\Downloads\\\\CS67_Fall2022_ A1_Dataset\\\\00007\\\\00779_00002.ppm',\n",
       " 'C:\\\\Users\\\\Tasleem Zahra\\\\Downloads\\\\CS67_Fall2022_ A1_Dataset\\\\00007\\\\00898_00000.ppm',\n",
       " 'C:\\\\Users\\\\Tasleem Zahra\\\\Downloads\\\\CS67_Fall2022_ A1_Dataset\\\\00007\\\\00898_00001.ppm',\n",
       " 'C:\\\\Users\\\\Tasleem Zahra\\\\Downloads\\\\CS67_Fall2022_ A1_Dataset\\\\00007\\\\00898_00002.ppm',\n",
       " 'C:\\\\Users\\\\Tasleem Zahra\\\\Downloads\\\\CS67_Fall2022_ A1_Dataset\\\\00007\\\\01031_00000.ppm',\n",
       " 'C:\\\\Users\\\\Tasleem Zahra\\\\Downloads\\\\CS67_Fall2022_ A1_Dataset\\\\00007\\\\01031_00002.ppm',\n",
       " 'C:\\\\Users\\\\Tasleem Zahra\\\\Downloads\\\\CS67_Fall2022_ A1_Dataset\\\\00007\\\\01035_00000.ppm',\n",
       " 'C:\\\\Users\\\\Tasleem Zahra\\\\Downloads\\\\CS67_Fall2022_ A1_Dataset\\\\00007\\\\01035_00001.ppm',\n",
       " 'C:\\\\Users\\\\Tasleem Zahra\\\\Downloads\\\\CS67_Fall2022_ A1_Dataset\\\\00007\\\\01308_00000.ppm',\n",
       " 'C:\\\\Users\\\\Tasleem Zahra\\\\Downloads\\\\CS67_Fall2022_ A1_Dataset\\\\00007\\\\01308_00001.ppm',\n",
       " 'C:\\\\Users\\\\Tasleem Zahra\\\\Downloads\\\\CS67_Fall2022_ A1_Dataset\\\\00007\\\\01308_00002.ppm',\n",
       " 'C:\\\\Users\\\\Tasleem Zahra\\\\Downloads\\\\CS67_Fall2022_ A1_Dataset\\\\00007\\\\01308_10000.ppm',\n",
       " 'C:\\\\Users\\\\Tasleem Zahra\\\\Downloads\\\\CS67_Fall2022_ A1_Dataset\\\\00007\\\\01357_00000.ppm',\n",
       " 'C:\\\\Users\\\\Tasleem Zahra\\\\Downloads\\\\CS67_Fall2022_ A1_Dataset\\\\00007\\\\01357_00001.ppm',\n",
       " 'C:\\\\Users\\\\Tasleem Zahra\\\\Downloads\\\\CS67_Fall2022_ A1_Dataset\\\\00007\\\\01357_00002.ppm',\n",
       " 'C:\\\\Users\\\\Tasleem Zahra\\\\Downloads\\\\CS67_Fall2022_ A1_Dataset\\\\00007\\\\01358_00000.ppm',\n",
       " 'C:\\\\Users\\\\Tasleem Zahra\\\\Downloads\\\\CS67_Fall2022_ A1_Dataset\\\\00007\\\\01358_00001.ppm',\n",
       " 'C:\\\\Users\\\\Tasleem Zahra\\\\Downloads\\\\CS67_Fall2022_ A1_Dataset\\\\00007\\\\01366_00000.ppm',\n",
       " 'C:\\\\Users\\\\Tasleem Zahra\\\\Downloads\\\\CS67_Fall2022_ A1_Dataset\\\\00007\\\\01366_00001.ppm',\n",
       " 'C:\\\\Users\\\\Tasleem Zahra\\\\Downloads\\\\CS67_Fall2022_ A1_Dataset\\\\00007\\\\01366_00002.ppm',\n",
       " 'C:\\\\Users\\\\Tasleem Zahra\\\\Downloads\\\\CS67_Fall2022_ A1_Dataset\\\\00007\\\\01372_00000.ppm',\n",
       " 'C:\\\\Users\\\\Tasleem Zahra\\\\Downloads\\\\CS67_Fall2022_ A1_Dataset\\\\00007\\\\01372_00001.ppm',\n",
       " 'C:\\\\Users\\\\Tasleem Zahra\\\\Downloads\\\\CS67_Fall2022_ A1_Dataset\\\\00007\\\\01375_00000.ppm',\n",
       " 'C:\\\\Users\\\\Tasleem Zahra\\\\Downloads\\\\CS67_Fall2022_ A1_Dataset\\\\00007\\\\01375_00001.ppm',\n",
       " 'C:\\\\Users\\\\Tasleem Zahra\\\\Downloads\\\\CS67_Fall2022_ A1_Dataset\\\\00007\\\\01399_00000.ppm',\n",
       " 'C:\\\\Users\\\\Tasleem Zahra\\\\Downloads\\\\CS67_Fall2022_ A1_Dataset\\\\00007\\\\01399_00001.ppm',\n",
       " 'C:\\\\Users\\\\Tasleem Zahra\\\\Downloads\\\\CS67_Fall2022_ A1_Dataset\\\\00007\\\\01399_00002.ppm',\n",
       " 'C:\\\\Users\\\\Tasleem Zahra\\\\Downloads\\\\CS67_Fall2022_ A1_Dataset\\\\00007\\\\01456_00000.ppm',\n",
       " 'C:\\\\Users\\\\Tasleem Zahra\\\\Downloads\\\\CS67_Fall2022_ A1_Dataset\\\\00007\\\\01456_00001.ppm',\n",
       " 'C:\\\\Users\\\\Tasleem Zahra\\\\Downloads\\\\CS67_Fall2022_ A1_Dataset\\\\00007\\\\01675_00000.ppm',\n",
       " 'C:\\\\Users\\\\Tasleem Zahra\\\\Downloads\\\\CS67_Fall2022_ A1_Dataset\\\\00007\\\\01675_00001.ppm',\n",
       " 'C:\\\\Users\\\\Tasleem Zahra\\\\Downloads\\\\CS67_Fall2022_ A1_Dataset\\\\00007\\\\01675_00002.ppm',\n",
       " 'C:\\\\Users\\\\Tasleem Zahra\\\\Downloads\\\\CS67_Fall2022_ A1_Dataset\\\\00007\\\\01678_00000.ppm',\n",
       " 'C:\\\\Users\\\\Tasleem Zahra\\\\Downloads\\\\CS67_Fall2022_ A1_Dataset\\\\00007\\\\01678_00001.ppm',\n",
       " 'C:\\\\Users\\\\Tasleem Zahra\\\\Downloads\\\\CS67_Fall2022_ A1_Dataset\\\\00007\\\\01678_00002.ppm',\n",
       " 'C:\\\\Users\\\\Tasleem Zahra\\\\Downloads\\\\CS67_Fall2022_ A1_Dataset\\\\00007\\\\01690_00000.ppm',\n",
       " 'C:\\\\Users\\\\Tasleem Zahra\\\\Downloads\\\\CS67_Fall2022_ A1_Dataset\\\\00007\\\\01690_00001.ppm',\n",
       " 'C:\\\\Users\\\\Tasleem Zahra\\\\Downloads\\\\CS67_Fall2022_ A1_Dataset\\\\00007\\\\01690_00002.ppm',\n",
       " 'C:\\\\Users\\\\Tasleem Zahra\\\\Downloads\\\\CS67_Fall2022_ A1_Dataset\\\\00007\\\\01708_00000.ppm',\n",
       " 'C:\\\\Users\\\\Tasleem Zahra\\\\Downloads\\\\CS67_Fall2022_ A1_Dataset\\\\00007\\\\01708_00001.ppm',\n",
       " 'C:\\\\Users\\\\Tasleem Zahra\\\\Downloads\\\\CS67_Fall2022_ A1_Dataset\\\\00007\\\\01708_00002.ppm',\n",
       " 'C:\\\\Users\\\\Tasleem Zahra\\\\Downloads\\\\CS67_Fall2022_ A1_Dataset\\\\00007\\\\01726_00000.ppm',\n",
       " 'C:\\\\Users\\\\Tasleem Zahra\\\\Downloads\\\\CS67_Fall2022_ A1_Dataset\\\\00007\\\\01726_00001.ppm',\n",
       " 'C:\\\\Users\\\\Tasleem Zahra\\\\Downloads\\\\CS67_Fall2022_ A1_Dataset\\\\00007\\\\01726_00002.ppm',\n",
       " 'C:\\\\Users\\\\Tasleem Zahra\\\\Downloads\\\\CS67_Fall2022_ A1_Dataset\\\\00007\\\\01806_00000.ppm',\n",
       " 'C:\\\\Users\\\\Tasleem Zahra\\\\Downloads\\\\CS67_Fall2022_ A1_Dataset\\\\00007\\\\01806_00001.ppm',\n",
       " 'C:\\\\Users\\\\Tasleem Zahra\\\\Downloads\\\\CS67_Fall2022_ A1_Dataset\\\\00007\\\\01806_00002.ppm',\n",
       " 'C:\\\\Users\\\\Tasleem Zahra\\\\Downloads\\\\CS67_Fall2022_ A1_Dataset\\\\00007\\\\01896_00000.ppm',\n",
       " 'C:\\\\Users\\\\Tasleem Zahra\\\\Downloads\\\\CS67_Fall2022_ A1_Dataset\\\\00007\\\\01896_00001.ppm',\n",
       " 'C:\\\\Users\\\\Tasleem Zahra\\\\Downloads\\\\CS67_Fall2022_ A1_Dataset\\\\00007\\\\01896_00002.ppm',\n",
       " 'C:\\\\Users\\\\Tasleem Zahra\\\\Downloads\\\\CS67_Fall2022_ A1_Dataset\\\\00007\\\\01896_00004.ppm',\n",
       " 'C:\\\\Users\\\\Tasleem Zahra\\\\Downloads\\\\CS67_Fall2022_ A1_Dataset\\\\00007\\\\01897_00000.ppm',\n",
       " 'C:\\\\Users\\\\Tasleem Zahra\\\\Downloads\\\\CS67_Fall2022_ A1_Dataset\\\\00007\\\\01897_00001.ppm',\n",
       " 'C:\\\\Users\\\\Tasleem Zahra\\\\Downloads\\\\CS67_Fall2022_ A1_Dataset\\\\00007\\\\01897_00002.ppm',\n",
       " 'C:\\\\Users\\\\Tasleem Zahra\\\\Downloads\\\\CS67_Fall2022_ A1_Dataset\\\\00007\\\\01901_00000.ppm',\n",
       " 'C:\\\\Users\\\\Tasleem Zahra\\\\Downloads\\\\CS67_Fall2022_ A1_Dataset\\\\00007\\\\01901_00001.ppm',\n",
       " 'C:\\\\Users\\\\Tasleem Zahra\\\\Downloads\\\\CS67_Fall2022_ A1_Dataset\\\\00007\\\\01901_00002.ppm',\n",
       " 'C:\\\\Users\\\\Tasleem Zahra\\\\Downloads\\\\CS67_Fall2022_ A1_Dataset\\\\00007\\\\01904_00000.ppm',\n",
       " 'C:\\\\Users\\\\Tasleem Zahra\\\\Downloads\\\\CS67_Fall2022_ A1_Dataset\\\\00007\\\\01904_00001.ppm',\n",
       " 'C:\\\\Users\\\\Tasleem Zahra\\\\Downloads\\\\CS67_Fall2022_ A1_Dataset\\\\00007\\\\01904_00002.ppm',\n",
       " 'C:\\\\Users\\\\Tasleem Zahra\\\\Downloads\\\\CS67_Fall2022_ A1_Dataset\\\\00008\\\\00392_00002.ppm',\n",
       " 'C:\\\\Users\\\\Tasleem Zahra\\\\Downloads\\\\CS67_Fall2022_ A1_Dataset\\\\00008\\\\00393_00000.ppm',\n",
       " 'C:\\\\Users\\\\Tasleem Zahra\\\\Downloads\\\\CS67_Fall2022_ A1_Dataset\\\\00008\\\\00393_00001.ppm',\n",
       " 'C:\\\\Users\\\\Tasleem Zahra\\\\Downloads\\\\CS67_Fall2022_ A1_Dataset\\\\00008\\\\00393_00002.ppm',\n",
       " 'C:\\\\Users\\\\Tasleem Zahra\\\\Downloads\\\\CS67_Fall2022_ A1_Dataset\\\\00008\\\\00395_00000.ppm',\n",
       " 'C:\\\\Users\\\\Tasleem Zahra\\\\Downloads\\\\CS67_Fall2022_ A1_Dataset\\\\00008\\\\00395_00002.ppm',\n",
       " 'C:\\\\Users\\\\Tasleem Zahra\\\\Downloads\\\\CS67_Fall2022_ A1_Dataset\\\\00008\\\\00406_00000.ppm',\n",
       " 'C:\\\\Users\\\\Tasleem Zahra\\\\Downloads\\\\CS67_Fall2022_ A1_Dataset\\\\00008\\\\00406_00001.ppm',\n",
       " 'C:\\\\Users\\\\Tasleem Zahra\\\\Downloads\\\\CS67_Fall2022_ A1_Dataset\\\\00008\\\\00406_00002.ppm',\n",
       " 'C:\\\\Users\\\\Tasleem Zahra\\\\Downloads\\\\CS67_Fall2022_ A1_Dataset\\\\00008\\\\00416_00000.ppm',\n",
       " 'C:\\\\Users\\\\Tasleem Zahra\\\\Downloads\\\\CS67_Fall2022_ A1_Dataset\\\\00008\\\\00418_00000.ppm',\n",
       " 'C:\\\\Users\\\\Tasleem Zahra\\\\Downloads\\\\CS67_Fall2022_ A1_Dataset\\\\00008\\\\00418_00001.ppm',\n",
       " 'C:\\\\Users\\\\Tasleem Zahra\\\\Downloads\\\\CS67_Fall2022_ A1_Dataset\\\\00008\\\\00418_00002.ppm',\n",
       " 'C:\\\\Users\\\\Tasleem Zahra\\\\Downloads\\\\CS67_Fall2022_ A1_Dataset\\\\00008\\\\00434_00001.ppm',\n",
       " 'C:\\\\Users\\\\Tasleem Zahra\\\\Downloads\\\\CS67_Fall2022_ A1_Dataset\\\\00008\\\\00438_00001.ppm',\n",
       " 'C:\\\\Users\\\\Tasleem Zahra\\\\Downloads\\\\CS67_Fall2022_ A1_Dataset\\\\00008\\\\00452_00000.ppm',\n",
       " 'C:\\\\Users\\\\Tasleem Zahra\\\\Downloads\\\\CS67_Fall2022_ A1_Dataset\\\\00008\\\\00452_00001.ppm',\n",
       " 'C:\\\\Users\\\\Tasleem Zahra\\\\Downloads\\\\CS67_Fall2022_ A1_Dataset\\\\00008\\\\00452_00002.ppm',\n",
       " 'C:\\\\Users\\\\Tasleem Zahra\\\\Downloads\\\\CS67_Fall2022_ A1_Dataset\\\\00008\\\\00453_00000.ppm',\n",
       " 'C:\\\\Users\\\\Tasleem Zahra\\\\Downloads\\\\CS67_Fall2022_ A1_Dataset\\\\00008\\\\00453_00001.ppm',\n",
       " 'C:\\\\Users\\\\Tasleem Zahra\\\\Downloads\\\\CS67_Fall2022_ A1_Dataset\\\\00008\\\\00462_00000.ppm',\n",
       " 'C:\\\\Users\\\\Tasleem Zahra\\\\Downloads\\\\CS67_Fall2022_ A1_Dataset\\\\00008\\\\00462_00001.ppm',\n",
       " 'C:\\\\Users\\\\Tasleem Zahra\\\\Downloads\\\\CS67_Fall2022_ A1_Dataset\\\\00008\\\\00462_00002.ppm',\n",
       " 'C:\\\\Users\\\\Tasleem Zahra\\\\Downloads\\\\CS67_Fall2022_ A1_Dataset\\\\00008\\\\00463_00000.ppm',\n",
       " 'C:\\\\Users\\\\Tasleem Zahra\\\\Downloads\\\\CS67_Fall2022_ A1_Dataset\\\\00008\\\\00463_00001.ppm',\n",
       " 'C:\\\\Users\\\\Tasleem Zahra\\\\Downloads\\\\CS67_Fall2022_ A1_Dataset\\\\00008\\\\00463_00002.ppm',\n",
       " 'C:\\\\Users\\\\Tasleem Zahra\\\\Downloads\\\\CS67_Fall2022_ A1_Dataset\\\\00008\\\\00466_00000.ppm',\n",
       " 'C:\\\\Users\\\\Tasleem Zahra\\\\Downloads\\\\CS67_Fall2022_ A1_Dataset\\\\00008\\\\00466_00001.ppm',\n",
       " 'C:\\\\Users\\\\Tasleem Zahra\\\\Downloads\\\\CS67_Fall2022_ A1_Dataset\\\\00008\\\\00466_00002.ppm',\n",
       " 'C:\\\\Users\\\\Tasleem Zahra\\\\Downloads\\\\CS67_Fall2022_ A1_Dataset\\\\00008\\\\00653_00000.ppm',\n",
       " 'C:\\\\Users\\\\Tasleem Zahra\\\\Downloads\\\\CS67_Fall2022_ A1_Dataset\\\\00008\\\\00653_00001.ppm',\n",
       " 'C:\\\\Users\\\\Tasleem Zahra\\\\Downloads\\\\CS67_Fall2022_ A1_Dataset\\\\00008\\\\00653_00002.ppm',\n",
       " 'C:\\\\Users\\\\Tasleem Zahra\\\\Downloads\\\\CS67_Fall2022_ A1_Dataset\\\\00008\\\\00655_00000.ppm',\n",
       " 'C:\\\\Users\\\\Tasleem Zahra\\\\Downloads\\\\CS67_Fall2022_ A1_Dataset\\\\00008\\\\00655_00001.ppm',\n",
       " 'C:\\\\Users\\\\Tasleem Zahra\\\\Downloads\\\\CS67_Fall2022_ A1_Dataset\\\\00008\\\\00655_00002.ppm',\n",
       " 'C:\\\\Users\\\\Tasleem Zahra\\\\Downloads\\\\CS67_Fall2022_ A1_Dataset\\\\00008\\\\00686_00002.ppm',\n",
       " 'C:\\\\Users\\\\Tasleem Zahra\\\\Downloads\\\\CS67_Fall2022_ A1_Dataset\\\\00008\\\\00694_00000.ppm',\n",
       " 'C:\\\\Users\\\\Tasleem Zahra\\\\Downloads\\\\CS67_Fall2022_ A1_Dataset\\\\00008\\\\00694_00001.ppm',\n",
       " 'C:\\\\Users\\\\Tasleem Zahra\\\\Downloads\\\\CS67_Fall2022_ A1_Dataset\\\\00008\\\\00694_00002.ppm',\n",
       " 'C:\\\\Users\\\\Tasleem Zahra\\\\Downloads\\\\CS67_Fall2022_ A1_Dataset\\\\00008\\\\00714_00000.ppm',\n",
       " 'C:\\\\Users\\\\Tasleem Zahra\\\\Downloads\\\\CS67_Fall2022_ A1_Dataset\\\\00008\\\\00714_00001.ppm',\n",
       " 'C:\\\\Users\\\\Tasleem Zahra\\\\Downloads\\\\CS67_Fall2022_ A1_Dataset\\\\00008\\\\00740_00000.ppm',\n",
       " 'C:\\\\Users\\\\Tasleem Zahra\\\\Downloads\\\\CS67_Fall2022_ A1_Dataset\\\\00008\\\\00740_00001.ppm',\n",
       " 'C:\\\\Users\\\\Tasleem Zahra\\\\Downloads\\\\CS67_Fall2022_ A1_Dataset\\\\00008\\\\00740_00002.ppm',\n",
       " 'C:\\\\Users\\\\Tasleem Zahra\\\\Downloads\\\\CS67_Fall2022_ A1_Dataset\\\\00008\\\\00751_00000.ppm',\n",
       " 'C:\\\\Users\\\\Tasleem Zahra\\\\Downloads\\\\CS67_Fall2022_ A1_Dataset\\\\00008\\\\00751_00002.ppm',\n",
       " 'C:\\\\Users\\\\Tasleem Zahra\\\\Downloads\\\\CS67_Fall2022_ A1_Dataset\\\\00008\\\\00764_00000.ppm',\n",
       " 'C:\\\\Users\\\\Tasleem Zahra\\\\Downloads\\\\CS67_Fall2022_ A1_Dataset\\\\00008\\\\00764_00001.ppm',\n",
       " 'C:\\\\Users\\\\Tasleem Zahra\\\\Downloads\\\\CS67_Fall2022_ A1_Dataset\\\\00008\\\\00764_00002.ppm',\n",
       " 'C:\\\\Users\\\\Tasleem Zahra\\\\Downloads\\\\CS67_Fall2022_ A1_Dataset\\\\00008\\\\00772_00000.ppm',\n",
       " 'C:\\\\Users\\\\Tasleem Zahra\\\\Downloads\\\\CS67_Fall2022_ A1_Dataset\\\\00008\\\\00772_00001.ppm',\n",
       " 'C:\\\\Users\\\\Tasleem Zahra\\\\Downloads\\\\CS67_Fall2022_ A1_Dataset\\\\00008\\\\00772_00002.ppm',\n",
       " 'C:\\\\Users\\\\Tasleem Zahra\\\\Downloads\\\\CS67_Fall2022_ A1_Dataset\\\\00008\\\\00774_00000.ppm',\n",
       " 'C:\\\\Users\\\\Tasleem Zahra\\\\Downloads\\\\CS67_Fall2022_ A1_Dataset\\\\00008\\\\00774_00001.ppm',\n",
       " 'C:\\\\Users\\\\Tasleem Zahra\\\\Downloads\\\\CS67_Fall2022_ A1_Dataset\\\\00008\\\\00796_00000.ppm',\n",
       " 'C:\\\\Users\\\\Tasleem Zahra\\\\Downloads\\\\CS67_Fall2022_ A1_Dataset\\\\00008\\\\00796_00001.ppm',\n",
       " 'C:\\\\Users\\\\Tasleem Zahra\\\\Downloads\\\\CS67_Fall2022_ A1_Dataset\\\\00008\\\\00796_00002.ppm',\n",
       " 'C:\\\\Users\\\\Tasleem Zahra\\\\Downloads\\\\CS67_Fall2022_ A1_Dataset\\\\00008\\\\00822_00000.ppm',\n",
       " 'C:\\\\Users\\\\Tasleem Zahra\\\\Downloads\\\\CS67_Fall2022_ A1_Dataset\\\\00008\\\\00861_00000.ppm',\n",
       " 'C:\\\\Users\\\\Tasleem Zahra\\\\Downloads\\\\CS67_Fall2022_ A1_Dataset\\\\00008\\\\00861_00001.ppm',\n",
       " 'C:\\\\Users\\\\Tasleem Zahra\\\\Downloads\\\\CS67_Fall2022_ A1_Dataset\\\\00008\\\\00862_00000.ppm',\n",
       " 'C:\\\\Users\\\\Tasleem Zahra\\\\Downloads\\\\CS67_Fall2022_ A1_Dataset\\\\00008\\\\00862_00001.ppm',\n",
       " 'C:\\\\Users\\\\Tasleem Zahra\\\\Downloads\\\\CS67_Fall2022_ A1_Dataset\\\\00008\\\\00862_00002.ppm',\n",
       " 'C:\\\\Users\\\\Tasleem Zahra\\\\Downloads\\\\CS67_Fall2022_ A1_Dataset\\\\00008\\\\00904_00000.ppm',\n",
       " 'C:\\\\Users\\\\Tasleem Zahra\\\\Downloads\\\\CS67_Fall2022_ A1_Dataset\\\\00008\\\\01000_00002.ppm',\n",
       " 'C:\\\\Users\\\\Tasleem Zahra\\\\Downloads\\\\CS67_Fall2022_ A1_Dataset\\\\00008\\\\01029_00001.ppm',\n",
       " 'C:\\\\Users\\\\Tasleem Zahra\\\\Downloads\\\\CS67_Fall2022_ A1_Dataset\\\\00008\\\\01029_00002.ppm',\n",
       " 'C:\\\\Users\\\\Tasleem Zahra\\\\Downloads\\\\CS67_Fall2022_ A1_Dataset\\\\00008\\\\01129_00000.ppm',\n",
       " 'C:\\\\Users\\\\Tasleem Zahra\\\\Downloads\\\\CS67_Fall2022_ A1_Dataset\\\\00008\\\\01919_00001.ppm',\n",
       " 'C:\\\\Users\\\\Tasleem Zahra\\\\Downloads\\\\CS67_Fall2022_ A1_Dataset\\\\00008\\\\01919_00002.ppm',\n",
       " 'C:\\\\Users\\\\Tasleem Zahra\\\\Downloads\\\\CS67_Fall2022_ A1_Dataset\\\\00008\\\\01953_00000.ppm',\n",
       " 'C:\\\\Users\\\\Tasleem Zahra\\\\Downloads\\\\CS67_Fall2022_ A1_Dataset\\\\00008\\\\01953_00001.ppm',\n",
       " 'C:\\\\Users\\\\Tasleem Zahra\\\\Downloads\\\\CS67_Fall2022_ A1_Dataset\\\\00008\\\\01953_00002.ppm',\n",
       " 'C:\\\\Users\\\\Tasleem Zahra\\\\Downloads\\\\CS67_Fall2022_ A1_Dataset\\\\00008\\\\01954_00001.ppm',\n",
       " 'C:\\\\Users\\\\Tasleem Zahra\\\\Downloads\\\\CS67_Fall2022_ A1_Dataset\\\\00008\\\\01954_00002.ppm',\n",
       " 'C:\\\\Users\\\\Tasleem Zahra\\\\Downloads\\\\CS67_Fall2022_ A1_Dataset\\\\00008\\\\01961_00000.ppm',\n",
       " 'C:\\\\Users\\\\Tasleem Zahra\\\\Downloads\\\\CS67_Fall2022_ A1_Dataset\\\\00008\\\\01961_00001.ppm',\n",
       " 'C:\\\\Users\\\\Tasleem Zahra\\\\Downloads\\\\CS67_Fall2022_ A1_Dataset\\\\00008\\\\01961_00002.ppm',\n",
       " 'C:\\\\Users\\\\Tasleem Zahra\\\\Downloads\\\\CS67_Fall2022_ A1_Dataset\\\\00008\\\\01963_00000.ppm',\n",
       " 'C:\\\\Users\\\\Tasleem Zahra\\\\Downloads\\\\CS67_Fall2022_ A1_Dataset\\\\00008\\\\01963_00001.ppm',\n",
       " 'C:\\\\Users\\\\Tasleem Zahra\\\\Downloads\\\\CS67_Fall2022_ A1_Dataset\\\\00009\\\\00651_00002.ppm',\n",
       " 'C:\\\\Users\\\\Tasleem Zahra\\\\Downloads\\\\CS67_Fall2022_ A1_Dataset\\\\00009\\\\00678_00000.ppm',\n",
       " 'C:\\\\Users\\\\Tasleem Zahra\\\\Downloads\\\\CS67_Fall2022_ A1_Dataset\\\\00009\\\\00678_00001.ppm',\n",
       " 'C:\\\\Users\\\\Tasleem Zahra\\\\Downloads\\\\CS67_Fall2022_ A1_Dataset\\\\00009\\\\00678_00002.ppm',\n",
       " 'C:\\\\Users\\\\Tasleem Zahra\\\\Downloads\\\\CS67_Fall2022_ A1_Dataset\\\\00009\\\\00923_00000.ppm',\n",
       " 'C:\\\\Users\\\\Tasleem Zahra\\\\Downloads\\\\CS67_Fall2022_ A1_Dataset\\\\00009\\\\00923_00001.ppm',\n",
       " 'C:\\\\Users\\\\Tasleem Zahra\\\\Downloads\\\\CS67_Fall2022_ A1_Dataset\\\\00009\\\\00923_00002.ppm',\n",
       " 'C:\\\\Users\\\\Tasleem Zahra\\\\Downloads\\\\CS67_Fall2022_ A1_Dataset\\\\00009\\\\00924_00000.ppm',\n",
       " 'C:\\\\Users\\\\Tasleem Zahra\\\\Downloads\\\\CS67_Fall2022_ A1_Dataset\\\\00009\\\\00924_00001.ppm',\n",
       " 'C:\\\\Users\\\\Tasleem Zahra\\\\Downloads\\\\CS67_Fall2022_ A1_Dataset\\\\00009\\\\00924_00002.ppm',\n",
       " 'C:\\\\Users\\\\Tasleem Zahra\\\\Downloads\\\\CS67_Fall2022_ A1_Dataset\\\\00009\\\\00934_00000.ppm',\n",
       " 'C:\\\\Users\\\\Tasleem Zahra\\\\Downloads\\\\CS67_Fall2022_ A1_Dataset\\\\00009\\\\00934_00001.ppm',\n",
       " 'C:\\\\Users\\\\Tasleem Zahra\\\\Downloads\\\\CS67_Fall2022_ A1_Dataset\\\\00009\\\\00934_00002.ppm',\n",
       " 'C:\\\\Users\\\\Tasleem Zahra\\\\Downloads\\\\CS67_Fall2022_ A1_Dataset\\\\00009\\\\00940_00000.ppm',\n",
       " 'C:\\\\Users\\\\Tasleem Zahra\\\\Downloads\\\\CS67_Fall2022_ A1_Dataset\\\\00009\\\\00940_00001.ppm',\n",
       " 'C:\\\\Users\\\\Tasleem Zahra\\\\Downloads\\\\CS67_Fall2022_ A1_Dataset\\\\00009\\\\00940_00002.ppm',\n",
       " 'C:\\\\Users\\\\Tasleem Zahra\\\\Downloads\\\\CS67_Fall2022_ A1_Dataset\\\\00009\\\\00955_00000.ppm',\n",
       " 'C:\\\\Users\\\\Tasleem Zahra\\\\Downloads\\\\CS67_Fall2022_ A1_Dataset\\\\00009\\\\00955_00001.ppm',\n",
       " 'C:\\\\Users\\\\Tasleem Zahra\\\\Downloads\\\\CS67_Fall2022_ A1_Dataset\\\\00009\\\\00955_00002.ppm',\n",
       " 'C:\\\\Users\\\\Tasleem Zahra\\\\Downloads\\\\CS67_Fall2022_ A1_Dataset\\\\00009\\\\00958_00001.ppm',\n",
       " 'C:\\\\Users\\\\Tasleem Zahra\\\\Downloads\\\\CS67_Fall2022_ A1_Dataset\\\\00009\\\\00958_00002.ppm',\n",
       " 'C:\\\\Users\\\\Tasleem Zahra\\\\Downloads\\\\CS67_Fall2022_ A1_Dataset\\\\00009\\\\00962_00000.ppm',\n",
       " 'C:\\\\Users\\\\Tasleem Zahra\\\\Downloads\\\\CS67_Fall2022_ A1_Dataset\\\\00009\\\\01005_00002.ppm',\n",
       " 'C:\\\\Users\\\\Tasleem Zahra\\\\Downloads\\\\CS67_Fall2022_ A1_Dataset\\\\00009\\\\01011_00000.ppm',\n",
       " 'C:\\\\Users\\\\Tasleem Zahra\\\\Downloads\\\\CS67_Fall2022_ A1_Dataset\\\\00009\\\\01011_00001.ppm',\n",
       " 'C:\\\\Users\\\\Tasleem Zahra\\\\Downloads\\\\CS67_Fall2022_ A1_Dataset\\\\00009\\\\01011_00002.ppm',\n",
       " 'C:\\\\Users\\\\Tasleem Zahra\\\\Downloads\\\\CS67_Fall2022_ A1_Dataset\\\\00009\\\\01037_00000.ppm',\n",
       " 'C:\\\\Users\\\\Tasleem Zahra\\\\Downloads\\\\CS67_Fall2022_ A1_Dataset\\\\00009\\\\01037_00001.ppm',\n",
       " 'C:\\\\Users\\\\Tasleem Zahra\\\\Downloads\\\\CS67_Fall2022_ A1_Dataset\\\\00009\\\\01037_00002.ppm',\n",
       " 'C:\\\\Users\\\\Tasleem Zahra\\\\Downloads\\\\CS67_Fall2022_ A1_Dataset\\\\00009\\\\01098_00000.ppm',\n",
       " 'C:\\\\Users\\\\Tasleem Zahra\\\\Downloads\\\\CS67_Fall2022_ A1_Dataset\\\\00009\\\\01098_00001.ppm',\n",
       " 'C:\\\\Users\\\\Tasleem Zahra\\\\Downloads\\\\CS67_Fall2022_ A1_Dataset\\\\00009\\\\01098_00002.ppm',\n",
       " 'C:\\\\Users\\\\Tasleem Zahra\\\\Downloads\\\\CS67_Fall2022_ A1_Dataset\\\\00009\\\\01100_00000.ppm',\n",
       " 'C:\\\\Users\\\\Tasleem Zahra\\\\Downloads\\\\CS67_Fall2022_ A1_Dataset\\\\00009\\\\01100_00001.ppm',\n",
       " 'C:\\\\Users\\\\Tasleem Zahra\\\\Downloads\\\\CS67_Fall2022_ A1_Dataset\\\\00009\\\\01100_00002.ppm',\n",
       " 'C:\\\\Users\\\\Tasleem Zahra\\\\Downloads\\\\CS67_Fall2022_ A1_Dataset\\\\00009\\\\01100_00003.ppm',\n",
       " 'C:\\\\Users\\\\Tasleem Zahra\\\\Downloads\\\\CS67_Fall2022_ A1_Dataset\\\\00009\\\\01104_00000.ppm',\n",
       " 'C:\\\\Users\\\\Tasleem Zahra\\\\Downloads\\\\CS67_Fall2022_ A1_Dataset\\\\00009\\\\01104_00001.ppm',\n",
       " 'C:\\\\Users\\\\Tasleem Zahra\\\\Downloads\\\\CS67_Fall2022_ A1_Dataset\\\\00009\\\\01104_00002.ppm',\n",
       " 'C:\\\\Users\\\\Tasleem Zahra\\\\Downloads\\\\CS67_Fall2022_ A1_Dataset\\\\00009\\\\01235_00000.ppm',\n",
       " 'C:\\\\Users\\\\Tasleem Zahra\\\\Downloads\\\\CS67_Fall2022_ A1_Dataset\\\\00009\\\\01235_00001.ppm',\n",
       " 'C:\\\\Users\\\\Tasleem Zahra\\\\Downloads\\\\CS67_Fall2022_ A1_Dataset\\\\00009\\\\01235_00002.ppm',\n",
       " 'C:\\\\Users\\\\Tasleem Zahra\\\\Downloads\\\\CS67_Fall2022_ A1_Dataset\\\\00009\\\\01242_00000.ppm',\n",
       " 'C:\\\\Users\\\\Tasleem Zahra\\\\Downloads\\\\CS67_Fall2022_ A1_Dataset\\\\00009\\\\01242_00001.ppm',\n",
       " 'C:\\\\Users\\\\Tasleem Zahra\\\\Downloads\\\\CS67_Fall2022_ A1_Dataset\\\\00009\\\\01242_00002.ppm',\n",
       " 'C:\\\\Users\\\\Tasleem Zahra\\\\Downloads\\\\CS67_Fall2022_ A1_Dataset\\\\00009\\\\01261_00000.ppm',\n",
       " 'C:\\\\Users\\\\Tasleem Zahra\\\\Downloads\\\\CS67_Fall2022_ A1_Dataset\\\\00009\\\\01261_00001.ppm',\n",
       " 'C:\\\\Users\\\\Tasleem Zahra\\\\Downloads\\\\CS67_Fall2022_ A1_Dataset\\\\00009\\\\01777_00001.ppm',\n",
       " 'C:\\\\Users\\\\Tasleem Zahra\\\\Downloads\\\\CS67_Fall2022_ A1_Dataset\\\\00009\\\\01777_00002.ppm',\n",
       " 'C:\\\\Users\\\\Tasleem Zahra\\\\Downloads\\\\CS67_Fall2022_ A1_Dataset\\\\00009\\\\01838_00000.ppm',\n",
       " 'C:\\\\Users\\\\Tasleem Zahra\\\\Downloads\\\\CS67_Fall2022_ A1_Dataset\\\\00009\\\\01838_00001.ppm',\n",
       " 'C:\\\\Users\\\\Tasleem Zahra\\\\Downloads\\\\CS67_Fall2022_ A1_Dataset\\\\00009\\\\01861_00001.ppm',\n",
       " 'C:\\\\Users\\\\Tasleem Zahra\\\\Downloads\\\\CS67_Fall2022_ A1_Dataset\\\\00009\\\\01862_00001.ppm',\n",
       " 'C:\\\\Users\\\\Tasleem Zahra\\\\Downloads\\\\CS67_Fall2022_ A1_Dataset\\\\00009\\\\01862_00002.ppm',\n",
       " 'C:\\\\Users\\\\Tasleem Zahra\\\\Downloads\\\\CS67_Fall2022_ A1_Dataset\\\\00009\\\\01863_00000.ppm',\n",
       " 'C:\\\\Users\\\\Tasleem Zahra\\\\Downloads\\\\CS67_Fall2022_ A1_Dataset\\\\00009\\\\01863_00001.ppm',\n",
       " 'C:\\\\Users\\\\Tasleem Zahra\\\\Downloads\\\\CS67_Fall2022_ A1_Dataset\\\\00009\\\\01863_00002.ppm',\n",
       " 'C:\\\\Users\\\\Tasleem Zahra\\\\Downloads\\\\CS67_Fall2022_ A1_Dataset\\\\00009\\\\01864_00000.ppm',\n",
       " 'C:\\\\Users\\\\Tasleem Zahra\\\\Downloads\\\\CS67_Fall2022_ A1_Dataset\\\\00009\\\\01864_00001.ppm',\n",
       " 'C:\\\\Users\\\\Tasleem Zahra\\\\Downloads\\\\CS67_Fall2022_ A1_Dataset\\\\00009\\\\01864_00002.ppm',\n",
       " 'C:\\\\Users\\\\Tasleem Zahra\\\\Downloads\\\\CS67_Fall2022_ A1_Dataset\\\\00009\\\\01870_00001.ppm',\n",
       " 'C:\\\\Users\\\\Tasleem Zahra\\\\Downloads\\\\CS67_Fall2022_ A1_Dataset\\\\00009\\\\01870_00002.ppm',\n",
       " 'C:\\\\Users\\\\Tasleem Zahra\\\\Downloads\\\\CS67_Fall2022_ A1_Dataset\\\\00009\\\\01871_00000.ppm',\n",
       " 'C:\\\\Users\\\\Tasleem Zahra\\\\Downloads\\\\CS67_Fall2022_ A1_Dataset\\\\00009\\\\01871_00001.ppm',\n",
       " 'C:\\\\Users\\\\Tasleem Zahra\\\\Downloads\\\\CS67_Fall2022_ A1_Dataset\\\\00009\\\\01871_00002.ppm',\n",
       " 'C:\\\\Users\\\\Tasleem Zahra\\\\Downloads\\\\CS67_Fall2022_ A1_Dataset\\\\00009\\\\01883_00000.ppm',\n",
       " 'C:\\\\Users\\\\Tasleem Zahra\\\\Downloads\\\\CS67_Fall2022_ A1_Dataset\\\\00009\\\\01883_00001.ppm',\n",
       " 'C:\\\\Users\\\\Tasleem Zahra\\\\Downloads\\\\CS67_Fall2022_ A1_Dataset\\\\00009\\\\01883_00002.ppm',\n",
       " 'C:\\\\Users\\\\Tasleem Zahra\\\\Downloads\\\\CS67_Fall2022_ A1_Dataset\\\\00009\\\\01894_00000.ppm',\n",
       " 'C:\\\\Users\\\\Tasleem Zahra\\\\Downloads\\\\CS67_Fall2022_ A1_Dataset\\\\00009\\\\01894_00001.ppm',\n",
       " 'C:\\\\Users\\\\Tasleem Zahra\\\\Downloads\\\\CS67_Fall2022_ A1_Dataset\\\\00009\\\\01909_00000.ppm',\n",
       " 'C:\\\\Users\\\\Tasleem Zahra\\\\Downloads\\\\CS67_Fall2022_ A1_Dataset\\\\00009\\\\01909_00002.ppm',\n",
       " 'C:\\\\Users\\\\Tasleem Zahra\\\\Downloads\\\\CS67_Fall2022_ A1_Dataset\\\\00009\\\\01910_00001.ppm',\n",
       " 'C:\\\\Users\\\\Tasleem Zahra\\\\Downloads\\\\CS67_Fall2022_ A1_Dataset\\\\00009\\\\01910_00002.ppm',\n",
       " 'C:\\\\Users\\\\Tasleem Zahra\\\\Downloads\\\\CS67_Fall2022_ A1_Dataset\\\\00009\\\\01929_00000.ppm',\n",
       " 'C:\\\\Users\\\\Tasleem Zahra\\\\Downloads\\\\CS67_Fall2022_ A1_Dataset\\\\00009\\\\01929_00001.ppm',\n",
       " 'C:\\\\Users\\\\Tasleem Zahra\\\\Downloads\\\\CS67_Fall2022_ A1_Dataset\\\\00009\\\\01929_00002.ppm',\n",
       " 'C:\\\\Users\\\\Tasleem Zahra\\\\Downloads\\\\CS67_Fall2022_ A1_Dataset\\\\00009\\\\01935_00000.ppm',\n",
       " 'C:\\\\Users\\\\Tasleem Zahra\\\\Downloads\\\\CS67_Fall2022_ A1_Dataset\\\\00009\\\\01935_00001.ppm',\n",
       " 'C:\\\\Users\\\\Tasleem Zahra\\\\Downloads\\\\CS67_Fall2022_ A1_Dataset\\\\00009\\\\01935_00002.ppm',\n",
       " 'C:\\\\Users\\\\Tasleem Zahra\\\\Downloads\\\\CS67_Fall2022_ A1_Dataset\\\\00010\\\\00525_00002.ppm',\n",
       " 'C:\\\\Users\\\\Tasleem Zahra\\\\Downloads\\\\CS67_Fall2022_ A1_Dataset\\\\00010\\\\00530_00000.ppm',\n",
       " 'C:\\\\Users\\\\Tasleem Zahra\\\\Downloads\\\\CS67_Fall2022_ A1_Dataset\\\\00010\\\\00530_00001.ppm',\n",
       " 'C:\\\\Users\\\\Tasleem Zahra\\\\Downloads\\\\CS67_Fall2022_ A1_Dataset\\\\00010\\\\00530_00002.ppm',\n",
       " 'C:\\\\Users\\\\Tasleem Zahra\\\\Downloads\\\\CS67_Fall2022_ A1_Dataset\\\\00010\\\\00543_00000.ppm',\n",
       " 'C:\\\\Users\\\\Tasleem Zahra\\\\Downloads\\\\CS67_Fall2022_ A1_Dataset\\\\00010\\\\00543_00001.ppm',\n",
       " 'C:\\\\Users\\\\Tasleem Zahra\\\\Downloads\\\\CS67_Fall2022_ A1_Dataset\\\\00010\\\\00543_00002.ppm',\n",
       " 'C:\\\\Users\\\\Tasleem Zahra\\\\Downloads\\\\CS67_Fall2022_ A1_Dataset\\\\00010\\\\00708_00001.ppm',\n",
       " 'C:\\\\Users\\\\Tasleem Zahra\\\\Downloads\\\\CS67_Fall2022_ A1_Dataset\\\\00010\\\\00708_00002.ppm',\n",
       " 'C:\\\\Users\\\\Tasleem Zahra\\\\Downloads\\\\CS67_Fall2022_ A1_Dataset\\\\00010\\\\00711_00000.ppm',\n",
       " 'C:\\\\Users\\\\Tasleem Zahra\\\\Downloads\\\\CS67_Fall2022_ A1_Dataset\\\\00010\\\\00711_00001.ppm',\n",
       " 'C:\\\\Users\\\\Tasleem Zahra\\\\Downloads\\\\CS67_Fall2022_ A1_Dataset\\\\00010\\\\00711_00002.ppm',\n",
       " 'C:\\\\Users\\\\Tasleem Zahra\\\\Downloads\\\\CS67_Fall2022_ A1_Dataset\\\\00010\\\\00731_00000.ppm',\n",
       " 'C:\\\\Users\\\\Tasleem Zahra\\\\Downloads\\\\CS67_Fall2022_ A1_Dataset\\\\00010\\\\00731_00001.ppm',\n",
       " 'C:\\\\Users\\\\Tasleem Zahra\\\\Downloads\\\\CS67_Fall2022_ A1_Dataset\\\\00010\\\\00731_00002.ppm',\n",
       " 'C:\\\\Users\\\\Tasleem Zahra\\\\Downloads\\\\CS67_Fall2022_ A1_Dataset\\\\00010\\\\00744_00000.ppm',\n",
       " 'C:\\\\Users\\\\Tasleem Zahra\\\\Downloads\\\\CS67_Fall2022_ A1_Dataset\\\\00010\\\\00744_00002.ppm',\n",
       " 'C:\\\\Users\\\\Tasleem Zahra\\\\Downloads\\\\CS67_Fall2022_ A1_Dataset\\\\00010\\\\00765_00000.ppm',\n",
       " 'C:\\\\Users\\\\Tasleem Zahra\\\\Downloads\\\\CS67_Fall2022_ A1_Dataset\\\\00010\\\\00765_00001.ppm',\n",
       " 'C:\\\\Users\\\\Tasleem Zahra\\\\Downloads\\\\CS67_Fall2022_ A1_Dataset\\\\00010\\\\00765_00002.ppm',\n",
       " 'C:\\\\Users\\\\Tasleem Zahra\\\\Downloads\\\\CS67_Fall2022_ A1_Dataset\\\\00010\\\\00767_00000.ppm',\n",
       " 'C:\\\\Users\\\\Tasleem Zahra\\\\Downloads\\\\CS67_Fall2022_ A1_Dataset\\\\00010\\\\00767_00001.ppm',\n",
       " 'C:\\\\Users\\\\Tasleem Zahra\\\\Downloads\\\\CS67_Fall2022_ A1_Dataset\\\\00010\\\\00767_00002.ppm',\n",
       " 'C:\\\\Users\\\\Tasleem Zahra\\\\Downloads\\\\CS67_Fall2022_ A1_Dataset\\\\00010\\\\00797_00000.ppm',\n",
       " 'C:\\\\Users\\\\Tasleem Zahra\\\\Downloads\\\\CS67_Fall2022_ A1_Dataset\\\\00010\\\\00797_00001.ppm',\n",
       " 'C:\\\\Users\\\\Tasleem Zahra\\\\Downloads\\\\CS67_Fall2022_ A1_Dataset\\\\00010\\\\00817_00001.ppm',\n",
       " 'C:\\\\Users\\\\Tasleem Zahra\\\\Downloads\\\\CS67_Fall2022_ A1_Dataset\\\\00010\\\\00817_00002.ppm',\n",
       " 'C:\\\\Users\\\\Tasleem Zahra\\\\Downloads\\\\CS67_Fall2022_ A1_Dataset\\\\00010\\\\00819_00000.ppm',\n",
       " 'C:\\\\Users\\\\Tasleem Zahra\\\\Downloads\\\\CS67_Fall2022_ A1_Dataset\\\\00010\\\\00819_00001.ppm',\n",
       " 'C:\\\\Users\\\\Tasleem Zahra\\\\Downloads\\\\CS67_Fall2022_ A1_Dataset\\\\00010\\\\00826_00000.ppm',\n",
       " 'C:\\\\Users\\\\Tasleem Zahra\\\\Downloads\\\\CS67_Fall2022_ A1_Dataset\\\\00010\\\\00826_00001.ppm',\n",
       " 'C:\\\\Users\\\\Tasleem Zahra\\\\Downloads\\\\CS67_Fall2022_ A1_Dataset\\\\00010\\\\00826_00002.ppm',\n",
       " 'C:\\\\Users\\\\Tasleem Zahra\\\\Downloads\\\\CS67_Fall2022_ A1_Dataset\\\\00010\\\\00829_00002.ppm',\n",
       " 'C:\\\\Users\\\\Tasleem Zahra\\\\Downloads\\\\CS67_Fall2022_ A1_Dataset\\\\00010\\\\00853_00000.ppm',\n",
       " 'C:\\\\Users\\\\Tasleem Zahra\\\\Downloads\\\\CS67_Fall2022_ A1_Dataset\\\\00010\\\\00853_00001.ppm',\n",
       " 'C:\\\\Users\\\\Tasleem Zahra\\\\Downloads\\\\CS67_Fall2022_ A1_Dataset\\\\00010\\\\00853_00002.ppm',\n",
       " 'C:\\\\Users\\\\Tasleem Zahra\\\\Downloads\\\\CS67_Fall2022_ A1_Dataset\\\\00010\\\\00862_00000.ppm',\n",
       " 'C:\\\\Users\\\\Tasleem Zahra\\\\Downloads\\\\CS67_Fall2022_ A1_Dataset\\\\00010\\\\00862_00001.ppm',\n",
       " 'C:\\\\Users\\\\Tasleem Zahra\\\\Downloads\\\\CS67_Fall2022_ A1_Dataset\\\\00010\\\\00863_00000.ppm',\n",
       " 'C:\\\\Users\\\\Tasleem Zahra\\\\Downloads\\\\CS67_Fall2022_ A1_Dataset\\\\00010\\\\00913_00000.ppm',\n",
       " 'C:\\\\Users\\\\Tasleem Zahra\\\\Downloads\\\\CS67_Fall2022_ A1_Dataset\\\\00010\\\\00913_00001.ppm',\n",
       " 'C:\\\\Users\\\\Tasleem Zahra\\\\Downloads\\\\CS67_Fall2022_ A1_Dataset\\\\00010\\\\00990_00000.ppm',\n",
       " 'C:\\\\Users\\\\Tasleem Zahra\\\\Downloads\\\\CS67_Fall2022_ A1_Dataset\\\\00010\\\\00990_00001.ppm',\n",
       " 'C:\\\\Users\\\\Tasleem Zahra\\\\Downloads\\\\CS67_Fall2022_ A1_Dataset\\\\00010\\\\00990_00002.ppm',\n",
       " 'C:\\\\Users\\\\Tasleem Zahra\\\\Downloads\\\\CS67_Fall2022_ A1_Dataset\\\\00010\\\\00993_00000.ppm',\n",
       " 'C:\\\\Users\\\\Tasleem Zahra\\\\Downloads\\\\CS67_Fall2022_ A1_Dataset\\\\00010\\\\00993_00001.ppm',\n",
       " 'C:\\\\Users\\\\Tasleem Zahra\\\\Downloads\\\\CS67_Fall2022_ A1_Dataset\\\\00010\\\\00993_00002.ppm',\n",
       " 'C:\\\\Users\\\\Tasleem Zahra\\\\Downloads\\\\CS67_Fall2022_ A1_Dataset\\\\00010\\\\00997_00000.ppm',\n",
       " 'C:\\\\Users\\\\Tasleem Zahra\\\\Downloads\\\\CS67_Fall2022_ A1_Dataset\\\\00010\\\\00997_00001.ppm',\n",
       " 'C:\\\\Users\\\\Tasleem Zahra\\\\Downloads\\\\CS67_Fall2022_ A1_Dataset\\\\00010\\\\00997_00002.ppm',\n",
       " 'C:\\\\Users\\\\Tasleem Zahra\\\\Downloads\\\\CS67_Fall2022_ A1_Dataset\\\\00010\\\\01025_00001.ppm',\n",
       " 'C:\\\\Users\\\\Tasleem Zahra\\\\Downloads\\\\CS67_Fall2022_ A1_Dataset\\\\00010\\\\01025_00002.ppm',\n",
       " 'C:\\\\Users\\\\Tasleem Zahra\\\\Downloads\\\\CS67_Fall2022_ A1_Dataset\\\\00010\\\\01027_00000.ppm',\n",
       " 'C:\\\\Users\\\\Tasleem Zahra\\\\Downloads\\\\CS67_Fall2022_ A1_Dataset\\\\00010\\\\01027_00001.ppm',\n",
       " 'C:\\\\Users\\\\Tasleem Zahra\\\\Downloads\\\\CS67_Fall2022_ A1_Dataset\\\\00010\\\\01027_00002.ppm',\n",
       " 'C:\\\\Users\\\\Tasleem Zahra\\\\Downloads\\\\CS67_Fall2022_ A1_Dataset\\\\00010\\\\01177_00000.ppm',\n",
       " 'C:\\\\Users\\\\Tasleem Zahra\\\\Downloads\\\\CS67_Fall2022_ A1_Dataset\\\\00010\\\\01178_00001.ppm',\n",
       " 'C:\\\\Users\\\\Tasleem Zahra\\\\Downloads\\\\CS67_Fall2022_ A1_Dataset\\\\00010\\\\01179_00000.ppm',\n",
       " 'C:\\\\Users\\\\Tasleem Zahra\\\\Downloads\\\\CS67_Fall2022_ A1_Dataset\\\\00010\\\\01179_00001.ppm',\n",
       " 'C:\\\\Users\\\\Tasleem Zahra\\\\Downloads\\\\CS67_Fall2022_ A1_Dataset\\\\00010\\\\01297_00000.ppm',\n",
       " 'C:\\\\Users\\\\Tasleem Zahra\\\\Downloads\\\\CS67_Fall2022_ A1_Dataset\\\\00010\\\\01297_00001.ppm',\n",
       " 'C:\\\\Users\\\\Tasleem Zahra\\\\Downloads\\\\CS67_Fall2022_ A1_Dataset\\\\00010\\\\01297_00002.ppm',\n",
       " 'C:\\\\Users\\\\Tasleem Zahra\\\\Downloads\\\\CS67_Fall2022_ A1_Dataset\\\\00010\\\\01333_00000.ppm',\n",
       " 'C:\\\\Users\\\\Tasleem Zahra\\\\Downloads\\\\CS67_Fall2022_ A1_Dataset\\\\00010\\\\01412_00001.ppm',\n",
       " 'C:\\\\Users\\\\Tasleem Zahra\\\\Downloads\\\\CS67_Fall2022_ A1_Dataset\\\\00010\\\\01795_00001.ppm',\n",
       " 'C:\\\\Users\\\\Tasleem Zahra\\\\Downloads\\\\CS67_Fall2022_ A1_Dataset\\\\00010\\\\01795_00002.ppm',\n",
       " 'C:\\\\Users\\\\Tasleem Zahra\\\\Downloads\\\\CS67_Fall2022_ A1_Dataset\\\\00010\\\\01819_00000.ppm',\n",
       " 'C:\\\\Users\\\\Tasleem Zahra\\\\Downloads\\\\CS67_Fall2022_ A1_Dataset\\\\00010\\\\01819_00001.ppm',\n",
       " 'C:\\\\Users\\\\Tasleem Zahra\\\\Downloads\\\\CS67_Fall2022_ A1_Dataset\\\\00010\\\\01819_00002.ppm',\n",
       " 'C:\\\\Users\\\\Tasleem Zahra\\\\Downloads\\\\CS67_Fall2022_ A1_Dataset\\\\00010\\\\01821_00000.ppm',\n",
       " 'C:\\\\Users\\\\Tasleem Zahra\\\\Downloads\\\\CS67_Fall2022_ A1_Dataset\\\\00010\\\\01821_00001.ppm',\n",
       " 'C:\\\\Users\\\\Tasleem Zahra\\\\Downloads\\\\CS67_Fall2022_ A1_Dataset\\\\00010\\\\01821_00002.ppm',\n",
       " 'C:\\\\Users\\\\Tasleem Zahra\\\\Downloads\\\\CS67_Fall2022_ A1_Dataset\\\\00010\\\\01822_00000.ppm',\n",
       " 'C:\\\\Users\\\\Tasleem Zahra\\\\Downloads\\\\CS67_Fall2022_ A1_Dataset\\\\00010\\\\01822_00002.ppm',\n",
       " 'C:\\\\Users\\\\Tasleem Zahra\\\\Downloads\\\\CS67_Fall2022_ A1_Dataset\\\\00010\\\\01825_00000.ppm',\n",
       " 'C:\\\\Users\\\\Tasleem Zahra\\\\Downloads\\\\CS67_Fall2022_ A1_Dataset\\\\00010\\\\01826_00000.ppm',\n",
       " 'C:\\\\Users\\\\Tasleem Zahra\\\\Downloads\\\\CS67_Fall2022_ A1_Dataset\\\\00010\\\\01826_00002.ppm',\n",
       " 'C:\\\\Users\\\\Tasleem Zahra\\\\Downloads\\\\CS67_Fall2022_ A1_Dataset\\\\00010\\\\01827_00000.ppm',\n",
       " 'C:\\\\Users\\\\Tasleem Zahra\\\\Downloads\\\\CS67_Fall2022_ A1_Dataset\\\\00010\\\\01827_00001.ppm',\n",
       " 'C:\\\\Users\\\\Tasleem Zahra\\\\Downloads\\\\CS67_Fall2022_ A1_Dataset\\\\00010\\\\01827_00002.ppm']"
      ]
     },
     "execution_count": 156,
     "metadata": {},
     "output_type": "execute_result"
    }
   ],
   "source": [
    "train_img_paths"
   ]
  },
  {
   "cell_type": "markdown",
   "id": "262d251d",
   "metadata": {},
   "source": [
    "# Training_Images"
   ]
  },
  {
   "cell_type": "code",
   "execution_count": 157,
   "id": "6c580f52",
   "metadata": {},
   "outputs": [],
   "source": [
    "img_width=20\n",
    "img_height=20\n",
    "dim= (img_width,img_height)\n",
    "train_images = []\n",
    "for imgpath in train_img_paths:\n",
    "    image = cv2.imread(imgpath,0)\n",
    "    image = cv2.resize(image,dim)\n",
    "    train_images.append(image)\n",
    "train_images=np.array(train_images)"
   ]
  },
  {
   "cell_type": "code",
   "execution_count": 158,
   "id": "8bcefc76",
   "metadata": {},
   "outputs": [
    {
     "data": {
      "text/plain": [
       "800"
      ]
     },
     "execution_count": 158,
     "metadata": {},
     "output_type": "execute_result"
    }
   ],
   "source": [
    "len(train_images)"
   ]
  },
  {
   "cell_type": "code",
   "execution_count": 159,
   "id": "46c652a7",
   "metadata": {},
   "outputs": [
    {
     "data": {
      "image/png": "[encoded data removed]",
      "text/plain": [
       "<Figure size 432x288 with 5 Axes>"
      ]
     },
     "metadata": {
      "needs_background": "light"
     },
     "output_type": "display_data"
    },
    {
     "name": "stdout",
     "output_type": "stream",
     "text": [
      "Training label: ['00001', '00001', '00001', '00001', '00001']\n"
     ]
    }
   ],
   "source": [
    "'''Plot first 5 images of training images'''\n",
    "for i in range(5):\n",
    "    plt.subplot(1,5,i+1)\n",
    "    plt.imshow(train_images[i])\n",
    "    plt.axis('off')\n",
    "plt.show()\n",
    "print('Training label: %s' % (train_labels[0:5],))"
   ]
  },
  {
   "cell_type": "markdown",
   "id": "2d2a8df5",
   "metadata": {},
   "source": [
    "# Histogram of Gradient"
   ]
  },
  {
   "cell_type": "code",
   "execution_count": 160,
   "id": "f430301c",
   "metadata": {},
   "outputs": [],
   "source": [
    "winSize = (20,20)\n",
    "blockSize = (10,10)\n",
    "blockStride = (5,5)\n",
    "cellSize = (10,10)\n",
    "nbins = 9\n",
    "derivAperture = 1\n",
    "winSigma = -1.\n",
    "histogramNormType = 0\n",
    "L2HysThreshold = 0.2\n",
    "gammaCorrection = 1\n",
    "nlevels = 64\n",
    "#ignedGradients = True\n",
    "\n",
    " \n",
    "\n",
    "hog = cv2.HOGDescriptor(winSize,blockSize,blockStride,cellSize,nbins,derivAperture,winSigma,histogramNormType,\n",
    "                        L2HysThreshold,gammaCorrection,nlevels)\n"
   ]
  },
  {
   "cell_type": "code",
   "execution_count": 161,
   "id": "e6d1077a",
   "metadata": {},
   "outputs": [],
   "source": [
    "'''Compute the feature vectors for each of training images'''\n",
    "descriptor=[]\n",
    "for item in train_images:\n",
    "    descriptor.append(hog.compute(item))\n",
    "    \n"
   ]
  },
  {
   "cell_type": "code",
   "execution_count": 162,
   "id": "b7a1a51d",
   "metadata": {},
   "outputs": [
    {
     "data": {
      "text/plain": [
       "(800, 81, 1)"
      ]
     },
     "execution_count": 162,
     "metadata": {},
     "output_type": "execute_result"
    }
   ],
   "source": [
    "np.array(descriptor).shape"
   ]
  },
  {
   "cell_type": "code",
   "execution_count": 163,
   "id": "1df1be5c",
   "metadata": {},
   "outputs": [
    {
     "data": {
      "text/plain": [
       "(800, 81)"
      ]
     },
     "execution_count": 163,
     "metadata": {},
     "output_type": "execute_result"
    }
   ],
   "source": [
    "'''Reshape'''\n",
    "nsamples, nx, ny = np.array(descriptor).shape\n",
    "train_data = np.array(descriptor).reshape((nsamples,nx*ny))\n",
    "train_data.shape"
   ]
  },
  {
   "cell_type": "markdown",
   "id": "02714998",
   "metadata": {},
   "source": [
    "# Test Data"
   ]
  },
  {
   "cell_type": "code",
   "execution_count": 164,
   "id": "ee065d38",
   "metadata": {},
   "outputs": [
    {
     "name": "stdout",
     "output_type": "stream",
     "text": [
      "00001\n",
      "C:\\Users\\Tasleem Zahra\\Downloads\\CS67_Fall2022_ A1_Dataset\\00001\n",
      "00002\n",
      "C:\\Users\\Tasleem Zahra\\Downloads\\CS67_Fall2022_ A1_Dataset\\00002\n",
      "00003\n",
      "C:\\Users\\Tasleem Zahra\\Downloads\\CS67_Fall2022_ A1_Dataset\\00003\n",
      "00004\n",
      "C:\\Users\\Tasleem Zahra\\Downloads\\CS67_Fall2022_ A1_Dataset\\00004\n",
      "00005\n",
      "C:\\Users\\Tasleem Zahra\\Downloads\\CS67_Fall2022_ A1_Dataset\\00005\n",
      "00006\n",
      "C:\\Users\\Tasleem Zahra\\Downloads\\CS67_Fall2022_ A1_Dataset\\00006\n",
      "00007\n",
      "C:\\Users\\Tasleem Zahra\\Downloads\\CS67_Fall2022_ A1_Dataset\\00007\n",
      "00008\n",
      "C:\\Users\\Tasleem Zahra\\Downloads\\CS67_Fall2022_ A1_Dataset\\00008\n",
      "00009\n",
      "C:\\Users\\Tasleem Zahra\\Downloads\\CS67_Fall2022_ A1_Dataset\\00009\n",
      "00010\n",
      "C:\\Users\\Tasleem Zahra\\Downloads\\CS67_Fall2022_ A1_Dataset\\00010\n"
     ]
    }
   ],
   "source": [
    "'''Get the path from text files'''\n",
    "test_img_paths=[]\n",
    "label_test= []\n",
    "pa = 'C:\\\\Users\\\\Tasleem Zahra\\\\Downloads\\\\CS67_Fall2022_ A1_Dataset'\n",
    "for j in os.listdir(pa):\n",
    "    print(j)\n",
    "    print(os.path.join(pa,j))\n",
    "    \n",
    "    with open(os.path.join(p,j,\"test.txt\")) as f:\n",
    "        \n",
    "        for item in f:\n",
    "            test_img_paths.append(os.path.join(pa,j,item.strip()))\n",
    "            label_test.append(j)\n",
    "        "
   ]
  },
  {
   "cell_type": "code",
   "execution_count": 165,
   "id": "6a61ee25",
   "metadata": {},
   "outputs": [],
   "source": [
    "'''Get the test images in list'''\n",
    "test_images = []\n",
    "for imgpath1 in test_img_paths:\n",
    "    test_image = cv2.imread(imgpath1,0)\n",
    "    test_image =cv2.resize(test_image,(20,20))\n",
    "    test_images.append(test_image)\n",
    "test_images=np.array(test_images)"
   ]
  },
  {
   "cell_type": "code",
   "execution_count": 166,
   "id": "1e0ec8f2",
   "metadata": {},
   "outputs": [
    {
     "data": {
      "text/plain": [
       "200"
      ]
     },
     "execution_count": 166,
     "metadata": {},
     "output_type": "execute_result"
    }
   ],
   "source": [
    "len(test_images)"
   ]
  },
  {
   "cell_type": "code",
   "execution_count": 167,
   "id": "735bfd01",
   "metadata": {},
   "outputs": [
    {
     "data": {
      "image/png": "[encoded data removed]",
      "text/plain": [
       "<Figure size 432x288 with 5 Axes>"
      ]
     },
     "metadata": {
      "needs_background": "light"
     },
     "output_type": "display_data"
    },
    {
     "name": "stdout",
     "output_type": "stream",
     "text": [
      "Testing label: ['00001', '00001', '00001', '00001', '00001']\n"
     ]
    }
   ],
   "source": [
    "'''Plot first 5 test images'''\n",
    "for i in range(5):\n",
    "    plt.subplot(1,5,i+1)\n",
    "    plt.imshow(test_images[i])\n",
    "    plt.axis('off')\n",
    "plt.show()\n",
    "print('Testing label: %s' % (label_test[0:5],))"
   ]
  },
  {
   "cell_type": "code",
   "execution_count": 168,
   "id": "bf6713e5",
   "metadata": {},
   "outputs": [],
   "source": [
    "winSize = (20,20)\n",
    "blockSize = (10,10)\n",
    "blockStride = (5,5)\n",
    "cellSize = (10,10)\n",
    "nbins = 9\n",
    "derivAperture = 1\n",
    "winSigma = -1.\n",
    "histogramNormType = 0\n",
    "L2HysThreshold = 0.2\n",
    "gammaCorrection = 1\n",
    "nlevels = 64\n",
    "#signedGradients = True\n",
    "\n",
    " \n",
    "\n",
    "hog = cv2.HOGDescriptor(winSize,blockSize,blockStride,cellSize,nbins,derivAperture,winSigma,histogramNormType,\n",
    "                        L2HysThreshold,gammaCorrection,nlevels)\n"
   ]
  },
  {
   "cell_type": "code",
   "execution_count": 169,
   "id": "09dc6054",
   "metadata": {},
   "outputs": [],
   "source": [
    "'''Compute the feature vectors for all the test images'''\n",
    "descriptor_test=[]\n",
    "for i in test_images:\n",
    "    descriptor_test.append(hog.compute(i))\n"
   ]
  },
  {
   "cell_type": "code",
   "execution_count": 170,
   "id": "b1d5a4fc",
   "metadata": {},
   "outputs": [
    {
     "data": {
      "text/plain": [
       "(200, 81, 1)"
      ]
     },
     "execution_count": 170,
     "metadata": {},
     "output_type": "execute_result"
    }
   ],
   "source": [
    "np.array(descriptor_test).shape"
   ]
  },
  {
   "cell_type": "code",
   "execution_count": 171,
   "id": "481529ec",
   "metadata": {},
   "outputs": [
    {
     "data": {
      "text/plain": [
       "(200, 81)"
      ]
     },
     "execution_count": 171,
     "metadata": {},
     "output_type": "execute_result"
    }
   ],
   "source": [
    "'''Reshape'''\n",
    "nsample, ns, nt = np.array(descriptor_test).shape\n",
    "test_data = np.array(descriptor_test).reshape((nsample,ns*nt))\n",
    "test_data.shape"
   ]
  },
  {
   "cell_type": "markdown",
   "id": "5379ad6c",
   "metadata": {},
   "source": [
    "# Support Vector Machine"
   ]
  },
  {
   "cell_type": "code",
   "execution_count": 172,
   "id": "d7996ffe",
   "metadata": {
    "scrolled": true
   },
   "outputs": [
    {
     "name": "stdout",
     "output_type": "stream",
     "text": [
      "SVC training completed\n"
     ]
    }
   ],
   "source": [
    "'''Fit model on feature vectors of training images and training labels'''\n",
    "from sklearn.svm import LinearSVC\n",
    "# load linear SVM\n",
    "modelSVC = LinearSVC(max_iter=3000)\n",
    "modelSVC.fit(train_data, train_labels)\n",
    "print(\"SVC training completed\")"
   ]
  },
  {
   "cell_type": "code",
   "execution_count": 173,
   "id": "3f31ed46",
   "metadata": {},
   "outputs": [],
   "source": [
    "'''Prediction on feature vectors of test images'''\n",
    "predicted_labels = modelSVC.predict(test_data)"
   ]
  },
  {
   "cell_type": "code",
   "execution_count": 174,
   "id": "17fcde41",
   "metadata": {},
   "outputs": [
    {
     "name": "stdout",
     "output_type": "stream",
     "text": [
      "['00001' '00001' '00001' '00001' '00001' '00001' '00004' '00004' '00001'\n",
      " '00004']\n",
      "['00001', '00001', '00001', '00001', '00001', '00001', '00001', '00001', '00001', '00001']\n"
     ]
    }
   ],
   "source": [
    "'''Check whether they predict the good'''\n",
    "print(predicted_labels[0:10])\n",
    "print(label_test[0:10])"
   ]
  },
  {
   "cell_type": "markdown",
   "id": "fdba9582",
   "metadata": {},
   "source": [
    "# Accuracy"
   ]
  },
  {
   "cell_type": "code",
   "execution_count": 175,
   "id": "da8a27e4",
   "metadata": {},
   "outputs": [
    {
     "name": "stdout",
     "output_type": "stream",
     "text": [
      "Accuracy: 0.9\n"
     ]
    }
   ],
   "source": [
    "from sklearn import metrics\n",
    "\n",
    "# Model Accuracy\n",
    "print(\"Accuracy:\",metrics.accuracy_score(label_test, predicted_labels))"
   ]
  },
  {
   "cell_type": "code",
   "execution_count": 176,
   "id": "63383b46",
   "metadata": {},
   "outputs": [
    {
     "name": "stdout",
     "output_type": "stream",
     "text": [
      "              precision    recall  f1-score   support\n",
      "\n",
      "       00001       1.00      0.75      0.86        20\n",
      "       00002       0.90      0.90      0.90        20\n",
      "       00003       0.83      0.75      0.79        20\n",
      "       00004       0.80      1.00      0.89        20\n",
      "       00005       1.00      1.00      1.00        20\n",
      "       00006       1.00      1.00      1.00        20\n",
      "       00007       0.90      0.95      0.93        20\n",
      "       00008       0.83      0.75      0.79        20\n",
      "       00009       0.86      0.90      0.88        20\n",
      "       00010       0.91      1.00      0.95        20\n",
      "\n",
      "    accuracy                           0.90       200\n",
      "   macro avg       0.90      0.90      0.90       200\n",
      "weighted avg       0.90      0.90      0.90       200\n",
      "\n"
     ]
    }
   ],
   "source": [
    "'''Confusion Matrix,Classification Report'''\n",
    "from sklearn.metrics import classification_report, confusion_matrix\n",
    "print(classification_report(label_test, predicted_labels))\n"
   ]
  },
  {
   "cell_type": "code",
   "execution_count": 177,
   "id": "cc7fefe3",
   "metadata": {},
   "outputs": [
    {
     "data": {
      "text/plain": [
       "array([[15,  0,  0,  5,  0,  0,  0,  0,  0,  0],\n",
       "       [ 0, 18,  2,  0,  0,  0,  0,  0,  0,  0],\n",
       "       [ 0,  1, 15,  0,  0,  0,  2,  2,  0,  0],\n",
       "       [ 0,  0,  0, 20,  0,  0,  0,  0,  0,  0],\n",
       "       [ 0,  0,  0,  0, 20,  0,  0,  0,  0,  0],\n",
       "       [ 0,  0,  0,  0,  0, 20,  0,  0,  0,  0],\n",
       "       [ 0,  0,  1,  0,  0,  0, 19,  0,  0,  0],\n",
       "       [ 0,  0,  0,  0,  0,  0,  0, 15,  3,  2],\n",
       "       [ 0,  1,  0,  0,  0,  0,  0,  1, 18,  0],\n",
       "       [ 0,  0,  0,  0,  0,  0,  0,  0,  0, 20]], dtype=int64)"
      ]
     },
     "execution_count": 177,
     "metadata": {},
     "output_type": "execute_result"
    }
   ],
   "source": [
    "'''Confusion Matrix'''\n",
    "cm=confusion_matrix(label_test, predicted_labels)\n",
    "cm"
   ]
  },
  {
   "cell_type": "code",
   "execution_count": 178,
   "id": "895f8aa3",
   "metadata": {},
   "outputs": [],
   "source": [
    "'''Calculate false positive,false negative,true positive'''\n",
    "FP = cm.sum(axis=0) - np.diag(cm)  \n",
    "FN = cm.sum(axis=1) - np.diag(cm)\n",
    "TP = np.diag(cm)\n",
    "# Sensitivity, hit rate, recall, or true positive rate\n",
    "TPR = TP/(TP+FN)"
   ]
  },
  {
   "cell_type": "code",
   "execution_count": 179,
   "id": "24e7c544",
   "metadata": {},
   "outputs": [
    {
     "name": "stdout",
     "output_type": "stream",
     "text": [
      "[0.75 0.9  0.75 1.   1.   1.   0.95 0.75 0.9  1.  ]\n"
     ]
    }
   ],
   "source": [
    "print(TPR)"
   ]
  },
  {
   "cell_type": "code",
   "execution_count": 180,
   "id": "fd3b635b",
   "metadata": {},
   "outputs": [],
   "source": [
    "'''Precision'''\n",
    "PPV = TP/(TP+FP)"
   ]
  },
  {
   "cell_type": "code",
   "execution_count": 181,
   "id": "3d17fca7",
   "metadata": {},
   "outputs": [
    {
     "name": "stdout",
     "output_type": "stream",
     "text": [
      "[0.25 0.1  0.25 0.   0.   0.   0.05 0.25 0.1  0.  ]\n"
     ]
    }
   ],
   "source": [
    "'''False Negative Rate'''\n",
    "FNR = FN/(TP+FN)\n",
    "print(FNR)"
   ]
  },
  {
   "cell_type": "code",
   "execution_count": 182,
   "id": "a887876b",
   "metadata": {},
   "outputs": [
    {
     "name": "stdout",
     "output_type": "stream",
     "text": [
      "[0.         0.1        0.16666667 0.2        0.         0.\n",
      " 0.0952381  0.16666667 0.14285714 0.09090909]\n"
     ]
    }
   ],
   "source": [
    "'''False discovery rate'''\n",
    "print(FDR)"
   ]
  },
  {
   "cell_type": "code",
   "execution_count": 183,
   "id": "54aefc44",
   "metadata": {},
   "outputs": [
    {
     "data": {
      "image/png": "[encoded data removed]",
      "text/plain": [
       "<Figure size 1080x720 with 15 Axes>"
      ]
     },
     "metadata": {
      "needs_background": "light"
     },
     "output_type": "display_data"
    }
   ],
   "source": [
    "plt.figure(figsize=(15,10))\n",
    "for i in range(15):\n",
    "    ax = plt.subplot(3,5,i+1)\n",
    "    plt.imshow(test_images[i])\n",
    "    plt.title(f'Actual label: {label_test[i]}\\nPredicted label: {predicted_labels[i]}')\n",
    "    plt.axis('off')\n",
    "plt.savefig('Predictions')\n",
    "plt.show() \n",
    "# print('Training label: %s' % (train_labels[0:5],))"
   ]
  },
  {
   "cell_type": "markdown",
   "id": "0faf67d9",
   "metadata": {},
   "source": [
    "# Unsupervised"
   ]
  },
  {
   "cell_type": "code",
   "execution_count": 143,
   "id": "0bbd5e0d",
   "metadata": {},
   "outputs": [],
   "source": [
    "data= train_data"
   ]
  },
  {
   "cell_type": "code",
   "execution_count": 144,
   "id": "9896ec50",
   "metadata": {},
   "outputs": [],
   "source": [
    "from sklearn.datasets import make_blobs\n",
    "data, train_labels = make_blobs(n_samples=800, centers=10,\n",
    "                       cluster_std=0.60, random_state=0)"
   ]
  },
  {
   "cell_type": "code",
   "execution_count": 146,
   "id": "04047792",
   "metadata": {},
   "outputs": [
    {
     "data": {
      "text/plain": [
       "<matplotlib.collections.PathCollection at 0x197131b27c0>"
      ]
     },
     "execution_count": 146,
     "metadata": {},
     "output_type": "execute_result"
    },
    {
     "data": {
      "image/png": "[encoded data removed]",
      "text/plain": [
       "<Figure size 432x288 with 1 Axes>"
      ]
     },
     "metadata": {
      "needs_background": "light"
     },
     "output_type": "display_data"
    }
   ],
   "source": [
    "plt.scatter(data[:, 0], data[:, 1], s=50)"
   ]
  },
  {
   "cell_type": "code",
   "execution_count": null,
   "id": "bdb125c9",
   "metadata": {},
   "outputs": [],
   "source": [
    "'''Get the int labels of test data'''\n",
    "label_tst = []\n",
    "\n",
    "for i in label_test:\n",
    "    label_tst.append(int(i))"
   ]
  },
  {
   "cell_type": "code",
   "execution_count": 152,
   "id": "71e01c33",
   "metadata": {},
   "outputs": [],
   "source": [
    "'''KMEANS'''\n",
    "from sklearn.cluster import KMeans\n",
    "kmeans = KMeans(n_clusters=10)\n",
    "kmeans.fit(train_data)\n",
    "y_kmeans = kmeans.predict(test_data)"
   ]
  },
  {
   "cell_type": "code",
   "execution_count": 153,
   "id": "e8ad4fa6",
   "metadata": {},
   "outputs": [
    {
     "name": "stdout",
     "output_type": "stream",
     "text": [
      "Accuracy: 0.17\n"
     ]
    }
   ],
   "source": [
    "'''Accuracy'''\n",
    "print(\"Accuracy:\",metrics.accuracy_score(label_tst, y_kmeans))"
   ]
  },
  {
   "cell_type": "code",
   "execution_count": null,
   "id": "d470de96",
   "metadata": {},
   "outputs": [],
   "source": []
  }
 ],
 "metadata": {
  "kernelspec": {
   "display_name": "Python 3 (ipykernel)",
   "language": "python",
   "name": "python3"
  },
  "language_info": {
   "codemirror_mode": {
    "name": "ipython",
    "version": 3
   },
   "file_extension": ".py",
   "mimetype": "text/x-python",
   "name": "python",
   "nbconvert_exporter": "python",
   "pygments_lexer": "ipython3",
   "version": "3.8.5"
  }
 },
 "nbformat": 4,
 "nbformat_minor": 5
}
